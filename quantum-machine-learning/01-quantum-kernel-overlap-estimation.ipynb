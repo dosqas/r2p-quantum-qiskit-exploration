{
 "cells": [
  {
   "cell_type": "markdown",
   "id": "b0eda8d0-797f-4f6b-b74d-5a253fc08ac1",
   "metadata": {},
   "source": [
    "# Quantum kernel estimation"
   ]
  },
  {
   "cell_type": "markdown",
   "id": "1e8d4878-f6e1-4f91-a8e7-b79a71f0a379",
   "metadata": {},
   "source": [
    "## Outline\n",
    "\n",
    "In this notebook we will carry out these steps several ways to make optimal use of your time on real quantum computers. We will apply a quantum kernel method to\n",
    "\n",
    "1. A single kernel matrix entry for data with relatively few features, using a real backend, so that we can easily follow what is happening at each step.\n",
    "2. An entire data set with relatively few features, using a simulated backend, so that we can see how the quantum workstream connects with classical machine learning methods"
   ]
  },
  {
   "cell_type": "markdown",
   "id": "170558ef-e0a4-4cc3-8d44-ed8777bd4e11",
   "metadata": {},
   "source": [
    "## Install required packages"
   ]
  },
  {
   "cell_type": "code",
   "execution_count": 1,
   "id": "7e39beb2-9b9b-46f4-909d-e6005c564cc7",
   "metadata": {},
   "outputs": [
    {
     "name": "stdout",
     "output_type": "stream",
     "text": [
      "Requirement already satisfied: panda in /opt/homebrew/lib/python3.10/site-packages (0.3.1)\n",
      "Requirement already satisfied: setuptools in /opt/homebrew/lib/python3.10/site-packages (from panda) (74.1.2)\n",
      "Requirement already satisfied: requests in /opt/homebrew/lib/python3.10/site-packages (from panda) (2.32.3)\n",
      "Requirement already satisfied: charset-normalizer<4,>=2 in /opt/homebrew/lib/python3.10/site-packages (from requests->panda) (3.0.1)\n",
      "Requirement already satisfied: idna<4,>=2.5 in /opt/homebrew/lib/python3.10/site-packages (from requests->panda) (3.4)\n",
      "Requirement already satisfied: urllib3<3,>=1.21.1 in /opt/homebrew/lib/python3.10/site-packages (from requests->panda) (1.26.14)\n",
      "Requirement already satisfied: certifi>=2017.4.17 in /opt/homebrew/lib/python3.10/site-packages (from requests->panda) (2022.12.7)\n",
      "\n",
      "\u001b[1m[\u001b[0m\u001b[34;49mnotice\u001b[0m\u001b[1;39;49m]\u001b[0m\u001b[39;49m A new release of pip is available: \u001b[0m\u001b[31;49m24.3.1\u001b[0m\u001b[39;49m -> \u001b[0m\u001b[32;49m25.0.1\u001b[0m\n",
      "\u001b[1m[\u001b[0m\u001b[34;49mnotice\u001b[0m\u001b[1;39;49m]\u001b[0m\u001b[39;49m To update, run: \u001b[0m\u001b[32;49mpython3.10 -m pip install --upgrade pip\u001b[0m\n",
      "Note: you may need to restart the kernel to use updated packages.\n"
     ]
    }
   ],
   "source": [
    "%pip install panda\n",
    "%pip install scikit-learn"
   ]
  },
  {
   "cell_type": "markdown",
   "id": "e2d3ebbc-eea8-4afe-b8d5-bf06efd2fa98",
   "metadata": {},
   "source": [
    "## Download data set"
   ]
  },
  {
   "cell_type": "code",
   "execution_count": 6,
   "id": "0b0a9e32-a0a0-4a08-afb0-dd0ec2f7fa40",
   "metadata": {},
   "outputs": [
    {
     "data": {
      "text/plain": [
       "('dataset_graph7.csv', <http.client.HTTPMessage at 0x20c5de93750>)"
      ]
     },
     "execution_count": 6,
     "metadata": {},
     "output_type": "execute_result"
    }
   ],
   "source": [
    "import urllib.request\n",
    "\n",
    "url = \"https://raw.githubusercontent.com/qiskit-community/prototype-quantum-kernel-training/main/data/dataset_graph7.csv\"\n",
    "urllib.request.urlretrieve(url, \"dataset_graph7.csv\")"
   ]
  },
  {
   "cell_type": "code",
   "execution_count": 7,
   "id": "cd2eab3d-2b32-4c39-99e5-4c8d31e60ca3",
   "metadata": {},
   "outputs": [
    {
     "data": {
      "text/html": [
       "<div>\n",
       "<style scoped>\n",
       "    .dataframe tbody tr th:only-of-type {\n",
       "        vertical-align: middle;\n",
       "    }\n",
       "\n",
       "    .dataframe tbody tr th {\n",
       "        vertical-align: top;\n",
       "    }\n",
       "\n",
       "    .dataframe thead th {\n",
       "        text-align: right;\n",
       "    }\n",
       "</style>\n",
       "<table border=\"1\" class=\"dataframe\">\n",
       "  <thead>\n",
       "    <tr style=\"text-align: right;\">\n",
       "      <th></th>\n",
       "      <th>0</th>\n",
       "      <th>1</th>\n",
       "      <th>2</th>\n",
       "      <th>3</th>\n",
       "      <th>4</th>\n",
       "      <th>5</th>\n",
       "      <th>6</th>\n",
       "      <th>7</th>\n",
       "      <th>8</th>\n",
       "      <th>9</th>\n",
       "      <th>10</th>\n",
       "      <th>11</th>\n",
       "      <th>12</th>\n",
       "      <th>13</th>\n",
       "      <th>14</th>\n",
       "    </tr>\n",
       "  </thead>\n",
       "  <tbody>\n",
       "    <tr>\n",
       "      <th>0</th>\n",
       "      <td>-0.193574</td>\n",
       "      <td>0.113979</td>\n",
       "      <td>-0.005927</td>\n",
       "      <td>0.300957</td>\n",
       "      <td>-0.358603</td>\n",
       "      <td>-0.087866</td>\n",
       "      <td>-0.156226</td>\n",
       "      <td>0.342442</td>\n",
       "      <td>-0.016003</td>\n",
       "      <td>0.143113</td>\n",
       "      <td>0.256422</td>\n",
       "      <td>-0.164125</td>\n",
       "      <td>-0.136743</td>\n",
       "      <td>0.014674</td>\n",
       "      <td>1.0</td>\n",
       "    </tr>\n",
       "    <tr>\n",
       "      <th>1</th>\n",
       "      <td>-0.100006</td>\n",
       "      <td>0.002431</td>\n",
       "      <td>0.244218</td>\n",
       "      <td>0.126870</td>\n",
       "      <td>-0.063891</td>\n",
       "      <td>-0.085588</td>\n",
       "      <td>0.072490</td>\n",
       "      <td>0.042986</td>\n",
       "      <td>-0.052714</td>\n",
       "      <td>0.019754</td>\n",
       "      <td>-0.159314</td>\n",
       "      <td>-0.409991</td>\n",
       "      <td>-0.199615</td>\n",
       "      <td>0.053845</td>\n",
       "      <td>-1.0</td>\n",
       "    </tr>\n",
       "    <tr>\n",
       "      <th>2</th>\n",
       "      <td>-1.774448</td>\n",
       "      <td>-0.047642</td>\n",
       "      <td>-0.025880</td>\n",
       "      <td>0.252708</td>\n",
       "      <td>-0.350689</td>\n",
       "      <td>-1.604509</td>\n",
       "      <td>-0.114874</td>\n",
       "      <td>0.347631</td>\n",
       "      <td>0.059501</td>\n",
       "      <td>-0.168956</td>\n",
       "      <td>0.351014</td>\n",
       "      <td>-0.128586</td>\n",
       "      <td>0.098897</td>\n",
       "      <td>-0.047799</td>\n",
       "      <td>1.0</td>\n",
       "    </tr>\n",
       "    <tr>\n",
       "      <th>3</th>\n",
       "      <td>-0.211585</td>\n",
       "      <td>-0.043782</td>\n",
       "      <td>-1.560226</td>\n",
       "      <td>0.018510</td>\n",
       "      <td>-0.051867</td>\n",
       "      <td>-0.128508</td>\n",
       "      <td>0.218609</td>\n",
       "      <td>-0.075632</td>\n",
       "      <td>-0.183656</td>\n",
       "      <td>-1.715292</td>\n",
       "      <td>-0.105361</td>\n",
       "      <td>-0.300758</td>\n",
       "      <td>-0.566431</td>\n",
       "      <td>0.046542</td>\n",
       "      <td>-1.0</td>\n",
       "    </tr>\n",
       "    <tr>\n",
       "      <th>4</th>\n",
       "      <td>-0.105965</td>\n",
       "      <td>0.208387</td>\n",
       "      <td>-0.003896</td>\n",
       "      <td>0.163816</td>\n",
       "      <td>-0.332541</td>\n",
       "      <td>-1.594675</td>\n",
       "      <td>-1.889321</td>\n",
       "      <td>-0.251937</td>\n",
       "      <td>0.374445</td>\n",
       "      <td>-1.431062</td>\n",
       "      <td>0.290588</td>\n",
       "      <td>0.118851</td>\n",
       "      <td>0.048799</td>\n",
       "      <td>-0.073023</td>\n",
       "      <td>1.0</td>\n",
       "    </tr>\n",
       "  </tbody>\n",
       "</table>\n",
       "</div>"
      ],
      "text/plain": [
       "         0         1         2         3         4         5         6   \\\n",
       "0 -0.193574  0.113979 -0.005927  0.300957 -0.358603 -0.087866 -0.156226   \n",
       "1 -0.100006  0.002431  0.244218  0.126870 -0.063891 -0.085588  0.072490   \n",
       "2 -1.774448 -0.047642 -0.025880  0.252708 -0.350689 -1.604509 -0.114874   \n",
       "3 -0.211585 -0.043782 -1.560226  0.018510 -0.051867 -0.128508  0.218609   \n",
       "4 -0.105965  0.208387 -0.003896  0.163816 -0.332541 -1.594675 -1.889321   \n",
       "\n",
       "         7         8         9         10        11        12        13   14  \n",
       "0  0.342442 -0.016003  0.143113  0.256422 -0.164125 -0.136743  0.014674  1.0  \n",
       "1  0.042986 -0.052714  0.019754 -0.159314 -0.409991 -0.199615  0.053845 -1.0  \n",
       "2  0.347631  0.059501 -0.168956  0.351014 -0.128586  0.098897 -0.047799  1.0  \n",
       "3 -0.075632 -0.183656 -1.715292 -0.105361 -0.300758 -0.566431  0.046542 -1.0  \n",
       "4 -0.251937  0.374445 -1.431062  0.290588  0.118851  0.048799 -0.073023  1.0  "
      ]
     },
     "execution_count": 7,
     "metadata": {},
     "output_type": "execute_result"
    }
   ],
   "source": [
    "import pandas as pd\n",
    "df = pd.read_csv(\"dataset_graph7.csv\", sep=\",\", header=None)\n",
    "df.head()"
   ]
  },
  {
   "cell_type": "markdown",
   "id": "449232bc-25b5-4504-ad69-4681ea4b5b1e",
   "metadata": {},
   "source": [
    "## Single kernel matrix entry"
   ]
  },
  {
   "cell_type": "markdown",
   "id": "28992c61-8cb5-46ad-bba2-66a038b3ac80",
   "metadata": {},
   "source": [
    "### Step 1: Map classical inputs to a quantum problem\n",
    "\n",
    "Let's look at the first two data points, which is the minimal needed for calculating the kernel matrix."
   ]
  },
  {
   "cell_type": "code",
   "execution_count": 8,
   "id": "a1a3bec9-f68c-4b8a-90a5-b800202ea149",
   "metadata": {},
   "outputs": [
    {
     "data": {
      "text/html": [
       "<div>\n",
       "<style scoped>\n",
       "    .dataframe tbody tr th:only-of-type {\n",
       "        vertical-align: middle;\n",
       "    }\n",
       "\n",
       "    .dataframe tbody tr th {\n",
       "        vertical-align: top;\n",
       "    }\n",
       "\n",
       "    .dataframe thead th {\n",
       "        text-align: right;\n",
       "    }\n",
       "</style>\n",
       "<table border=\"1\" class=\"dataframe\">\n",
       "  <thead>\n",
       "    <tr style=\"text-align: right;\">\n",
       "      <th></th>\n",
       "      <th>0</th>\n",
       "      <th>1</th>\n",
       "      <th>2</th>\n",
       "      <th>3</th>\n",
       "      <th>4</th>\n",
       "      <th>5</th>\n",
       "      <th>6</th>\n",
       "      <th>7</th>\n",
       "      <th>8</th>\n",
       "      <th>9</th>\n",
       "      <th>10</th>\n",
       "      <th>11</th>\n",
       "      <th>12</th>\n",
       "      <th>13</th>\n",
       "      <th>14</th>\n",
       "    </tr>\n",
       "  </thead>\n",
       "  <tbody>\n",
       "    <tr>\n",
       "      <th>0</th>\n",
       "      <td>-0.193574</td>\n",
       "      <td>0.113979</td>\n",
       "      <td>-0.005927</td>\n",
       "      <td>0.300957</td>\n",
       "      <td>-0.358603</td>\n",
       "      <td>-0.087866</td>\n",
       "      <td>-0.156226</td>\n",
       "      <td>0.342442</td>\n",
       "      <td>-0.016003</td>\n",
       "      <td>0.143113</td>\n",
       "      <td>0.256422</td>\n",
       "      <td>-0.164125</td>\n",
       "      <td>-0.136743</td>\n",
       "      <td>0.014674</td>\n",
       "      <td>1.0</td>\n",
       "    </tr>\n",
       "    <tr>\n",
       "      <th>1</th>\n",
       "      <td>-0.100006</td>\n",
       "      <td>0.002431</td>\n",
       "      <td>0.244218</td>\n",
       "      <td>0.126870</td>\n",
       "      <td>-0.063891</td>\n",
       "      <td>-0.085588</td>\n",
       "      <td>0.072490</td>\n",
       "      <td>0.042986</td>\n",
       "      <td>-0.052714</td>\n",
       "      <td>0.019754</td>\n",
       "      <td>-0.159314</td>\n",
       "      <td>-0.409991</td>\n",
       "      <td>-0.199615</td>\n",
       "      <td>0.053845</td>\n",
       "      <td>-1.0</td>\n",
       "    </tr>\n",
       "  </tbody>\n",
       "</table>\n",
       "</div>"
      ],
      "text/plain": [
       "         0         1         2         3         4         5         6   \\\n",
       "0 -0.193574  0.113979 -0.005927  0.300957 -0.358603 -0.087866 -0.156226   \n",
       "1 -0.100006  0.002431  0.244218  0.126870 -0.063891 -0.085588  0.072490   \n",
       "\n",
       "         7         8         9         10        11        12        13   14  \n",
       "0  0.342442 -0.016003  0.143113  0.256422 -0.164125 -0.136743  0.014674  1.0  \n",
       "1  0.042986 -0.052714  0.019754 -0.159314 -0.409991 -0.199615  0.053845 -1.0  "
      ]
     },
     "execution_count": 8,
     "metadata": {},
     "output_type": "execute_result"
    }
   ],
   "source": [
    "import numpy as np\n",
    "import matplotlib.pyplot as plt\n",
    "\n",
    "small_data = df.iloc[:2]\n",
    "small_data"
   ]
  },
  {
   "cell_type": "code",
   "execution_count": 9,
   "id": "61ede649-6c3d-4dc8-9f87-da346abde569",
   "metadata": {},
   "outputs": [
    {
     "data": {
      "text/plain": [
       "array([-0.19357448,  0.11397916, -0.00592673,  0.30095717, -0.35860336,\n",
       "       -0.08786632, -0.15622592,  0.3424416 , -0.01600324,  0.1431133 ,\n",
       "        0.25642247, -0.16412547, -0.13674259,  0.01467435])"
      ]
     },
     "execution_count": 9,
     "metadata": {},
     "output_type": "execute_result"
    }
   ],
   "source": [
    "# Features of the first data point\n",
    "small_data.values[0,:-1]"
   ]
  },
  {
   "cell_type": "code",
   "execution_count": 10,
   "id": "92108595-198b-4dd3-a074-102a4f3163e4",
   "metadata": {},
   "outputs": [
    {
     "data": {
      "text/plain": [
       "array([[-0.19357448,  0.11397916, -0.00592673,  0.30095717, -0.35860336,\n",
       "        -0.08786632, -0.15622592,  0.3424416 , -0.01600324,  0.1431133 ,\n",
       "         0.25642247, -0.16412547, -0.13674259,  0.01467435],\n",
       "       [-0.10000625,  0.00243083,  0.24421757,  0.12686991, -0.06389124,\n",
       "        -0.085588  ,  0.07249021,  0.04298629, -0.0527142 ,  0.01975425,\n",
       "        -0.15931417, -0.40999085, -0.19961527,  0.05384521]])"
      ]
     },
     "execution_count": 10,
     "metadata": {},
     "output_type": "execute_result"
    }
   ],
   "source": [
    "# Data points with labels removed, for inner product\n",
    "train_data = small_data.values[:,:-1]\n",
    "train_data"
   ]
  },
  {
   "cell_type": "code",
   "execution_count": 11,
   "id": "bfd25ca4-8b54-435f-88ec-9da10f5255e4",
   "metadata": {},
   "outputs": [
    {
     "data": {
      "image/png": "[encoded data removed]",
      "text/plain": [
       "<Figure size 283.77x722.4 with 1 Axes>"
      ]
     },
     "execution_count": 11,
     "metadata": {},
     "output_type": "execute_result"
    }
   ],
   "source": [
    "from qiskit.circuit.library import ZFeatureMap\n",
    "\n",
    "fm = ZFeatureMap(feature_dimension=np.shape(train_data)[1])\n",
    "fm.decompose().draw(\"mpl\", scale=0.6)"
   ]
  },
  {
   "cell_type": "code",
   "execution_count": 12,
   "id": "ae17fe72-5786-449b-85af-cf7a8a8ee2d3",
   "metadata": {},
   "outputs": [],
   "source": [
    "unitary1 = fm.assign_parameters(train_data[0])\n",
    "unitary2 = fm.assign_parameters(train_data[1])"
   ]
  },
  {
   "cell_type": "code",
   "execution_count": 13,
   "id": "9d011097-8d86-4fe9-95c6-bbf97aa19ee2",
   "metadata": {},
   "outputs": [
    {
     "name": "stdout",
     "output_type": "stream",
     "text": [
      "circuit depth =  9\n"
     ]
    },
    {
     "data": {
      "image/png": "[encoded data removed]",
      "text/plain": [
       "<Figure size 1351.57x772.567 with 1 Axes>"
      ]
     },
     "execution_count": 13,
     "metadata": {},
     "output_type": "execute_result"
    }
   ],
   "source": [
    "from qiskit.circuit.library import UnitaryOverlap\n",
    "\n",
    "overlap_circ = UnitaryOverlap(unitary1, unitary2)\n",
    "overlap_circ.measure_all()\n",
    "\n",
    "print(\"circuit depth = \", overlap_circ.decompose().depth())\n",
    "overlap_circ.decompose().draw(\"mpl\", scale=0.6)"
   ]
  },
  {
   "cell_type": "markdown",
   "id": "9ff56bcf-ec33-41b3-9b27-e49aad6dbd7c",
   "metadata": {},
   "source": [
    "### Step 2: Optimize problem for quantum execution\n",
    "\n",
    "We start by selecting the least busy backend, then optimize our circuit for running on that backend."
   ]
  },
  {
   "cell_type": "code",
   "execution_count": 14,
   "id": "000b9101-057c-45ae-87b3-396c6f4a9d1c",
   "metadata": {},
   "outputs": [
    {
     "name": "stderr",
     "output_type": "stream",
     "text": [
      "C:\\Users\\dosqas\\AppData\\Local\\Temp\\ipykernel_31808\\4267002363.py:5: DeprecationWarning: The \"ibm_quantum\" channel option is deprecated and will be sunset on 1 July. After this date, \"ibm_cloud\" and \"local\" will be the only valid channels. For information on migrating to the new IBM Quantum Platform on the \"ibm_cloud\" channel, review the migration guide https://quantum.cloud.ibm.com/docs/migration-guides/classic-iqp-to-cloud-iqp .\n",
      "  service = QiskitRuntimeService(channel=\"ibm_quantum\")\n"
     ]
    },
    {
     "name": "stdout",
     "output_type": "stream",
     "text": [
      "<IBMBackend('ibm_strasbourg')>\n"
     ]
    }
   ],
   "source": [
    "# Import needed packages\n",
    "from qiskit_ibm_runtime import QiskitRuntimeService\n",
    "\n",
    "# Get the least busy backend\n",
    "service = QiskitRuntimeService(channel=\"ibm_quantum\")\n",
    "# backend = service.least_busy(\n",
    "#     operational=True, simulator=False, min_num_qubits=fm.num_qubits\n",
    "# )\n",
    "\n",
    "backend = service.backend('ibm_strasbourg')  # You can change the backend\n",
    "\n",
    "print(backend)"
   ]
  },
  {
   "cell_type": "code",
   "execution_count": 15,
   "id": "719dcbfc-3da8-47e8-9f8e-e2aba31e5f20",
   "metadata": {},
   "outputs": [],
   "source": [
    "# Apply level 3 optimization to our overlap circuit\n",
    "from qiskit.transpiler.preset_passmanagers import generate_preset_pass_manager\n",
    "\n",
    "pm = generate_preset_pass_manager(optimization_level=3, backend=backend)\n",
    "overlap_ibm = pm.run(overlap_circ)"
   ]
  },
  {
   "cell_type": "code",
   "execution_count": 16,
   "id": "f691c3a7-7e64-4f64-8c7a-e37ef17c1ed9",
   "metadata": {},
   "outputs": [
    {
     "name": "stdout",
     "output_type": "stream",
     "text": [
      "circuit depth =  6\n",
      "0\n"
     ]
    },
    {
     "data": {
      "text/html": [
       "<pre style=\"word-wrap: normal;white-space: pre;background: #fff0;line-height: 1.1;font-family: &quot;Courier New&quot;,Courier,monospace\">global phase: 4.2637\n",
       "            ┌────────────┐┌────┐┌─────────────┐┌────┐ ┌────────────┐ ░       »\n",
       " q_11 -> 0 ─┤ Rz(2.2952) ├┤ √X ├┤ Rz(-2.5936) ├┤ √X ├─┤ Rz(1.2743) ├─░───────»\n",
       "           ┌┴────────────┤├────┤├─────────────┤├────┤┌┴────────────┤ ░ ┌─┐   »\n",
       " q_0 -> 13 ┤ Rz(-1.3779) ├┤ √X ├┤ Rz(-2.9475) ├┤ √X ├┤ Rz(-1.9436) ├─░─┤M├───»\n",
       "           ├─────────────┤├────┤├─────────────┤├────┤├─────────────┤ ░ └╥┘   »\n",
       "q_13 -> 30 ┤ Rz(-1.6783) ├┤ √X ├┤ Rz(-3.0631) ├┤ √X ├┤ Rz(-1.5415) ├─░──╫────»\n",
       "           └┬────────────┤├────┤├─────────────┤├────┤└┬────────────┤ ░  ║    »\n",
       "q_12 -> 34 ─┤ Rz(1.9497) ├┤ √X ├┤ Rz(-3.0094) ├┤ √X ├─┤ Rz(1.3109) ├─░──╫────»\n",
       "           ┌┴────────────┤├────┤└┬────────────┤├────┤┌┴────────────┤ ░  ║    »\n",
       " q_5 -> 36 ┤ Rz(-1.4021) ├┤ √X ├─┤ Rz(-3.137) ├┤ √X ├┤ Rz(-1.7439) ├─░──╫────»\n",
       "           └┬────────────┤├────┤┌┴────────────┤├────┤└┬────────────┤ ░  ║ ┌─┐»\n",
       " q_1 -> 47 ─┤ Rz(1.5659) ├┤ √X ├┤ Rz(-2.9184) ├┤ √X ├─┤ Rz(1.7986) ├─░──╫─┤M├»\n",
       "            ├───────────┬┘├────┤└┬────────────┤├────┤ ├────────────┤ ░  ║ └╥┘»\n",
       " q_8 -> 49 ─┤ Rz(1.676) ├─┤ √X ├─┤ Rz(-3.068) ├┤ √X ├─┤ Rz(1.5388) ├─░──╫──╫─»\n",
       "            ├───────────┤ ├────┤┌┴────────────┤├────┤ ├────────────┤ ░  ║  ║ »\n",
       "q_10 -> 59 ─┤ Rz(1.913) ├─┤ √X ├┤ Rz(-2.3803) ├┤ √X ├─┤ Rz(2.1242) ├─░──╫──╫─»\n",
       "            ├───────────┴┐├────┤├─────────────┤├────┤┌┴────────────┤ ░  ║  ║ »\n",
       " q_6 -> 66 ─┤ Rz(-1.719) ├┤ √X ├┤ Rz(-2.6946) ├┤ √X ├┤ Rz(-1.8903) ├─░──╫──╫─»\n",
       "           ┌┴────────────┤├────┤├─────────────┤├────┤├─────────────┤ ░  ║  ║ »\n",
       " q_2 -> 76 ┤ Rz(-2.0606) ├┤ √X ├┤ Rz(-2.6427) ├┤ √X ├┤ Rz(-1.5827) ├─░──╫──╫─»\n",
       "           └┬────────────┤├────┤├─────────────┤├────┤└┬────────────┤ ░  ║  ║ »\n",
       " q_3 -> 77 ─┤ Rz(1.3332) ├┤ √X ├┤ Rz(-2.7692) ├┤ √X ├─┤ Rz(2.1306) ├─░──╫──╫─»\n",
       "           ┌┴────────────┤├────┤├─────────────┤├────┤┌┴────────────┤ ░  ║  ║ »\n",
       " q_4 -> 88 ┤ Rz(-1.4476) ├┤ √X ├┤ Rz(-2.5272) ├┤ √X ├┤ Rz(-2.2573) ├─░──╫──╫─»\n",
       "           └┬────────────┤├────┤├─────────────┤├────┤└┬────────────┤ ░  ║  ║ »\n",
       "q_9 -> 119 ─┤ Rz(1.5315) ├┤ √X ├┤ Rz(-2.8935) ├┤ √X ├─┤ Rz(1.8554) ├─░──╫──╫─»\n",
       "            ├────────────┤├────┤├─────────────┤├────┤ ├────────────┤ ░  ║  ║ »\n",
       "q_7 -> 121 ─┤ Rz(1.4869) ├┤ √X ├┤ Rz(-2.5261) ├┤ √X ├─┤ Rz(2.2366) ├─░──╫──╫─»\n",
       "            └────────────┘└────┘└─────────────┘└────┘ └────────────┘ ░  ║  ║ »\n",
       "  meas: 14/═════════════════════════════════════════════════════════════╩══╩═»\n",
       "                                                                        0  1 »\n",
       "«                                      ┌─┐      \n",
       "« q_11 -> 0 ───────────────────────────┤M├──────\n",
       "«                                      └╥┘      \n",
       "« q_0 -> 13 ────────────────────────────╫───────\n",
       "«                                       ║    ┌─┐\n",
       "«q_13 -> 30 ────────────────────────────╫────┤M├\n",
       "«                                       ║ ┌─┐└╥┘\n",
       "«q_12 -> 34 ────────────────────────────╫─┤M├─╫─\n",
       "«                    ┌─┐                ║ └╥┘ ║ \n",
       "« q_5 -> 36 ─────────┤M├────────────────╫──╫──╫─\n",
       "«                    └╥┘                ║  ║  ║ \n",
       "« q_1 -> 47 ──────────╫─────────────────╫──╫──╫─\n",
       "«                     ║       ┌─┐       ║  ║  ║ \n",
       "« q_8 -> 49 ──────────╫───────┤M├───────╫──╫──╫─\n",
       "«                     ║       └╥┘   ┌─┐ ║  ║  ║ \n",
       "«q_10 -> 59 ──────────╫────────╫────┤M├─╫──╫──╫─\n",
       "«                     ║ ┌─┐    ║    └╥┘ ║  ║  ║ \n",
       "« q_6 -> 66 ──────────╫─┤M├────╫─────╫──╫──╫──╫─\n",
       "«           ┌─┐       ║ └╥┘    ║     ║  ║  ║  ║ \n",
       "« q_2 -> 76 ┤M├───────╫──╫─────╫─────╫──╫──╫──╫─\n",
       "«           └╥┘┌─┐    ║  ║     ║     ║  ║  ║  ║ \n",
       "« q_3 -> 77 ─╫─┤M├────╫──╫─────╫─────╫──╫──╫──╫─\n",
       "«            ║ └╥┘┌─┐ ║  ║     ║     ║  ║  ║  ║ \n",
       "« q_4 -> 88 ─╫──╫─┤M├─╫──╫─────╫─────╫──╫──╫──╫─\n",
       "«            ║  ║ └╥┘ ║  ║     ║ ┌─┐ ║  ║  ║  ║ \n",
       "«q_9 -> 119 ─╫──╫──╫──╫──╫─────╫─┤M├─╫──╫──╫──╫─\n",
       "«            ║  ║  ║  ║  ║ ┌─┐ ║ └╥┘ ║  ║  ║  ║ \n",
       "«q_7 -> 121 ─╫──╫──╫──╫──╫─┤M├─╫──╫──╫──╫──╫──╫─\n",
       "«            ║  ║  ║  ║  ║ └╥┘ ║  ║  ║  ║  ║  ║ \n",
       "«  meas: 14/═╩══╩══╩══╩══╩══╩══╩══╩══╩══╩══╩══╩═\n",
       "«            2  3  4  5  6  7  8  9  10 11 12 13</pre>"
      ],
      "text/plain": [
       "global phase: 4.2637\n",
       "            ┌────────────┐┌────┐┌─────────────┐┌────┐ ┌────────────┐ ░       »\n",
       " q_11 -> 0 ─┤ Rz(2.2952) ├┤ √X ├┤ Rz(-2.5936) ├┤ √X ├─┤ Rz(1.2743) ├─░───────»\n",
       "           ┌┴────────────┤├────┤├─────────────┤├────┤┌┴────────────┤ ░ ┌─┐   »\n",
       " q_0 -> 13 ┤ Rz(-1.3779) ├┤ √X ├┤ Rz(-2.9475) ├┤ √X ├┤ Rz(-1.9436) ├─░─┤M├───»\n",
       "           ├─────────────┤├────┤├─────────────┤├────┤├─────────────┤ ░ └╥┘   »\n",
       "q_13 -> 30 ┤ Rz(-1.6783) ├┤ √X ├┤ Rz(-3.0631) ├┤ √X ├┤ Rz(-1.5415) ├─░──╫────»\n",
       "           └┬────────────┤├────┤├─────────────┤├────┤└┬────────────┤ ░  ║    »\n",
       "q_12 -> 34 ─┤ Rz(1.9497) ├┤ √X ├┤ Rz(-3.0094) ├┤ √X ├─┤ Rz(1.3109) ├─░──╫────»\n",
       "           ┌┴────────────┤├────┤└┬────────────┤├────┤┌┴────────────┤ ░  ║    »\n",
       " q_5 -> 36 ┤ Rz(-1.4021) ├┤ √X ├─┤ Rz(-3.137) ├┤ √X ├┤ Rz(-1.7439) ├─░──╫────»\n",
       "           └┬────────────┤├────┤┌┴────────────┤├────┤└┬────────────┤ ░  ║ ┌─┐»\n",
       " q_1 -> 47 ─┤ Rz(1.5659) ├┤ √X ├┤ Rz(-2.9184) ├┤ √X ├─┤ Rz(1.7986) ├─░──╫─┤M├»\n",
       "            ├───────────┬┘├────┤└┬────────────┤├────┤ ├────────────┤ ░  ║ └╥┘»\n",
       " q_8 -> 49 ─┤ Rz(1.676) ├─┤ √X ├─┤ Rz(-3.068) ├┤ √X ├─┤ Rz(1.5388) ├─░──╫──╫─»\n",
       "            ├───────────┤ ├────┤┌┴────────────┤├────┤ ├────────────┤ ░  ║  ║ »\n",
       "q_10 -> 59 ─┤ Rz(1.913) ├─┤ √X ├┤ Rz(-2.3803) ├┤ √X ├─┤ Rz(2.1242) ├─░──╫──╫─»\n",
       "            ├───────────┴┐├────┤├─────────────┤├────┤┌┴────────────┤ ░  ║  ║ »\n",
       " q_6 -> 66 ─┤ Rz(-1.719) ├┤ √X ├┤ Rz(-2.6946) ├┤ √X ├┤ Rz(-1.8903) ├─░──╫──╫─»\n",
       "           ┌┴────────────┤├────┤├─────────────┤├────┤├─────────────┤ ░  ║  ║ »\n",
       " q_2 -> 76 ┤ Rz(-2.0606) ├┤ √X ├┤ Rz(-2.6427) ├┤ √X ├┤ Rz(-1.5827) ├─░──╫──╫─»\n",
       "           └┬────────────┤├────┤├─────────────┤├────┤└┬────────────┤ ░  ║  ║ »\n",
       " q_3 -> 77 ─┤ Rz(1.3332) ├┤ √X ├┤ Rz(-2.7692) ├┤ √X ├─┤ Rz(2.1306) ├─░──╫──╫─»\n",
       "           ┌┴────────────┤├────┤├─────────────┤├────┤┌┴────────────┤ ░  ║  ║ »\n",
       " q_4 -> 88 ┤ Rz(-1.4476) ├┤ √X ├┤ Rz(-2.5272) ├┤ √X ├┤ Rz(-2.2573) ├─░──╫──╫─»\n",
       "           └┬────────────┤├────┤├─────────────┤├────┤└┬────────────┤ ░  ║  ║ »\n",
       "q_9 -> 119 ─┤ Rz(1.5315) ├┤ √X ├┤ Rz(-2.8935) ├┤ √X ├─┤ Rz(1.8554) ├─░──╫──╫─»\n",
       "            ├────────────┤├────┤├─────────────┤├────┤ ├────────────┤ ░  ║  ║ »\n",
       "q_7 -> 121 ─┤ Rz(1.4869) ├┤ √X ├┤ Rz(-2.5261) ├┤ √X ├─┤ Rz(2.2366) ├─░──╫──╫─»\n",
       "            └────────────┘└────┘└─────────────┘└────┘ └────────────┘ ░  ║  ║ »\n",
       "  meas: 14/═════════════════════════════════════════════════════════════╩══╩═»\n",
       "                                                                        0  1 »\n",
       "«                                      ┌─┐      \n",
       "« q_11 -> 0 ───────────────────────────┤M├──────\n",
       "«                                      └╥┘      \n",
       "« q_0 -> 13 ────────────────────────────╫───────\n",
       "«                                       ║    ┌─┐\n",
       "«q_13 -> 30 ────────────────────────────╫────┤M├\n",
       "«                                       ║ ┌─┐└╥┘\n",
       "«q_12 -> 34 ────────────────────────────╫─┤M├─╫─\n",
       "«                    ┌─┐                ║ └╥┘ ║ \n",
       "« q_5 -> 36 ─────────┤M├────────────────╫──╫──╫─\n",
       "«                    └╥┘                ║  ║  ║ \n",
       "« q_1 -> 47 ──────────╫─────────────────╫──╫──╫─\n",
       "«                     ║       ┌─┐       ║  ║  ║ \n",
       "« q_8 -> 49 ──────────╫───────┤M├───────╫──╫──╫─\n",
       "«                     ║       └╥┘   ┌─┐ ║  ║  ║ \n",
       "«q_10 -> 59 ──────────╫────────╫────┤M├─╫──╫──╫─\n",
       "«                     ║ ┌─┐    ║    └╥┘ ║  ║  ║ \n",
       "« q_6 -> 66 ──────────╫─┤M├────╫─────╫──╫──╫──╫─\n",
       "«           ┌─┐       ║ └╥┘    ║     ║  ║  ║  ║ \n",
       "« q_2 -> 76 ┤M├───────╫──╫─────╫─────╫──╫──╫──╫─\n",
       "«           └╥┘┌─┐    ║  ║     ║     ║  ║  ║  ║ \n",
       "« q_3 -> 77 ─╫─┤M├────╫──╫─────╫─────╫──╫──╫──╫─\n",
       "«            ║ └╥┘┌─┐ ║  ║     ║     ║  ║  ║  ║ \n",
       "« q_4 -> 88 ─╫──╫─┤M├─╫──╫─────╫─────╫──╫──╫──╫─\n",
       "«            ║  ║ └╥┘ ║  ║     ║ ┌─┐ ║  ║  ║  ║ \n",
       "«q_9 -> 119 ─╫──╫──╫──╫──╫─────╫─┤M├─╫──╫──╫──╫─\n",
       "«            ║  ║  ║  ║  ║ ┌─┐ ║ └╥┘ ║  ║  ║  ║ \n",
       "«q_7 -> 121 ─╫──╫──╫──╫──╫─┤M├─╫──╫──╫──╫──╫──╫─\n",
       "«            ║  ║  ║  ║  ║ └╥┘ ║  ║  ║  ║  ║  ║ \n",
       "«  meas: 14/═╩══╩══╩══╩══╩══╩══╩══╩══╩══╩══╩══╩═\n",
       "«            2  3  4  5  6  7  8  9  10 11 12 13"
      ]
     },
     "execution_count": 16,
     "metadata": {},
     "output_type": "execute_result"
    }
   ],
   "source": [
    "print(\"circuit depth = \", overlap_ibm.depth())\n",
    "print(f\"{overlap_ibm.depth(lambda x: x.operation.num_qubits == 2)}\")\n",
    "overlap_ibm.draw(idle_wires=False)"
   ]
  },
  {
   "cell_type": "markdown",
   "id": "27310055-51d2-4c2c-a33e-630a454769df",
   "metadata": {},
   "source": [
    "### Step 3: Execute using Qiskit Runtime Primitives\n",
    "\n",
    "The syntax for running on a simulator is commented out below. For this dataset, with a small number of features, running on a simulator is still an option. For utility-scale calculations, simulation is not typically feasible. Simulators should only be used to debug scaled-down code."
   ]
  },
  {
   "cell_type": "code",
   "execution_count": 18,
   "id": "fa459cd7-1708-4072-a381-509432928c59",
   "metadata": {},
   "outputs": [],
   "source": [
    "# Run this for a simulator\n",
    "from qiskit.primitives import StatevectorSampler\n",
    "from qiskit_ibm_runtime import Options, Session, Sampler\n",
    "\n",
    "num_shots = 10000\n",
    "\n",
    "# Evaluate the problem using state vector-based primitives from Qiskit\n",
    "sampler = StatevectorSampler()\n",
    "job = sampler.run([overlap_circ], shots=num_shots)\n",
    "results = job.result()\n",
    "# .get_counts() returns counts associated with a state labeled by bit results such as |001101...01>.\n",
    "counts_bit = results[0].data.meas.get_counts()"
   ]
  },
  {
   "cell_type": "markdown",
   "id": "5fd6bf14-ce23-4f04-9a45-9863a6d2e461",
   "metadata": {},
   "source": [
    "### Step 4: Post-process, return result in classical format\n",
    "\n",
    "As described in the introduction, the most useful measurement here is the probability of measuring the all zero state ∣000...00⟩."
   ]
  },
  {
   "cell_type": "code",
   "execution_count": 19,
   "id": "da2284a2-b17f-4560-9d74-435ce215d816",
   "metadata": {},
   "outputs": [
    {
     "data": {
      "text/plain": [
       "0.5484"
      ]
     },
     "execution_count": 19,
     "metadata": {},
     "output_type": "execute_result"
    }
   ],
   "source": [
    "counts_bit.get('0'*len(train_data[0]))/num_shots"
   ]
  },
  {
   "cell_type": "code",
   "execution_count": 21,
   "id": "1f056315-f8f7-495f-96a6-8f6d24bd2f42",
   "metadata": {
    "scrolled": true
   },
   "outputs": [
    {
     "data": {
      "image/png": "[encoded data removed]",
      "text/plain": [
       "<Figure size 640x480 with 1 Axes>"
      ]
     },
     "execution_count": 21,
     "metadata": {},
     "output_type": "execute_result"
    }
   ],
   "source": [
    "from qiskit.visualization import plot_histogram\n",
    "plot_histogram(counts_bit)"
   ]
  },
  {
   "cell_type": "markdown",
   "id": "798394c8-ca75-49d4-8b16-ac05f852f2db",
   "metadata": {},
   "source": [
    "It's hard to read with too many bitstrings. Let's use the following functions to show the top 10 bitstrings."
   ]
  },
  {
   "cell_type": "code",
   "execution_count": 22,
   "id": "424a02b2-f9eb-4711-ade2-d25be96164c5",
   "metadata": {},
   "outputs": [
    {
     "data": {
      "image/png": "[encoded data removed]",
      "text/plain": [
       "<Figure size 640x480 with 1 Axes>"
      ]
     },
     "execution_count": 22,
     "metadata": {},
     "output_type": "execute_result"
    }
   ],
   "source": [
    "plot_histogram(data=counts_bit, sort='value_desc', number_to_keep=10)"
   ]
  },
  {
   "cell_type": "markdown",
   "id": "3f6c35ca-e754-4ef6-a7e0-75bf81d9bc2c",
   "metadata": {},
   "source": [
    "## Full kernel matrix\n",
    "\n",
    "Let's move on to calculating the full kernel matrix"
   ]
  },
  {
   "cell_type": "markdown",
   "id": "497aac51-a53c-4749-a597-29b5ea4ea824",
   "metadata": {},
   "source": [
    "### Step 1: Map classical inputs to a quantum problem"
   ]
  },
  {
   "cell_type": "code",
   "execution_count": 23,
   "id": "1c52d7e5-b90a-4969-9d39-7b4d7c581f51",
   "metadata": {},
   "outputs": [
    {
     "data": {
      "text/plain": [
       "128"
      ]
     },
     "execution_count": 23,
     "metadata": {},
     "output_type": "execute_result"
    }
   ],
   "source": [
    "# Total number of data points in this data set\n",
    "len(df)"
   ]
  },
  {
   "cell_type": "markdown",
   "id": "0ae0c66e-0901-400a-a35a-5f054efa7c4e",
   "metadata": {},
   "source": [
    "Let's divide the data set into training data and testing data. "
   ]
  },
  {
   "cell_type": "code",
   "execution_count": 24,
   "id": "74a07745-05df-4aa6-b738-4b09e044c3c0",
   "metadata": {},
   "outputs": [],
   "source": [
    "# Prepare training data\n",
    "train_size = 30\n",
    "X_train=df.values[0:train_size,:-1]\n",
    "train_labels = df.values[0:train_size,-1]\n",
    "\n",
    "# Prepare testing data\n",
    "test_size = 10\n",
    "X_test=df.values[train_size:train_size+test_size,:-1]\n",
    "test_labels=df.values[train_size:train_size+test_size,-1]"
   ]
  },
  {
   "cell_type": "code",
   "execution_count": 25,
   "id": "8d52d837-fee3-4d66-9040-c5ba56068813",
   "metadata": {},
   "outputs": [
    {
     "data": {
      "text/plain": [
       "30"
      ]
     },
     "execution_count": 25,
     "metadata": {},
     "output_type": "execute_result"
    }
   ],
   "source": [
    "# Create empty kernel matrix\n",
    "num_samples = np.shape(X_train)[0]\n",
    "num_samples"
   ]
  },
  {
   "cell_type": "code",
   "execution_count": 26,
   "id": "4a12fb7a-abf4-42b4-9bca-809e9593ebac",
   "metadata": {},
   "outputs": [
    {
     "name": "stdout",
     "output_type": "stream",
     "text": [
      "(30, 30)\n"
     ]
    },
    {
     "data": {
      "text/plain": [
       "array([[nan, nan, nan, nan, nan, nan, nan, nan, nan, nan, nan, nan, nan,\n",
       "        nan, nan, nan, nan, nan, nan, nan, nan, nan, nan, nan, nan, nan,\n",
       "        nan, nan, nan, nan],\n",
       "       [nan, nan, nan, nan, nan, nan, nan, nan, nan, nan, nan, nan, nan,\n",
       "        nan, nan, nan, nan, nan, nan, nan, nan, nan, nan, nan, nan, nan,\n",
       "        nan, nan, nan, nan],\n",
       "       [nan, nan, nan, nan, nan, nan, nan, nan, nan, nan, nan, nan, nan,\n",
       "        nan, nan, nan, nan, nan, nan, nan, nan, nan, nan, nan, nan, nan,\n",
       "        nan, nan, nan, nan],\n",
       "       [nan, nan, nan, nan, nan, nan, nan, nan, nan, nan, nan, nan, nan,\n",
       "        nan, nan, nan, nan, nan, nan, nan, nan, nan, nan, nan, nan, nan,\n",
       "        nan, nan, nan, nan],\n",
       "       [nan, nan, nan, nan, nan, nan, nan, nan, nan, nan, nan, nan, nan,\n",
       "        nan, nan, nan, nan, nan, nan, nan, nan, nan, nan, nan, nan, nan,\n",
       "        nan, nan, nan, nan],\n",
       "       [nan, nan, nan, nan, nan, nan, nan, nan, nan, nan, nan, nan, nan,\n",
       "        nan, nan, nan, nan, nan, nan, nan, nan, nan, nan, nan, nan, nan,\n",
       "        nan, nan, nan, nan],\n",
       "       [nan, nan, nan, nan, nan, nan, nan, nan, nan, nan, nan, nan, nan,\n",
       "        nan, nan, nan, nan, nan, nan, nan, nan, nan, nan, nan, nan, nan,\n",
       "        nan, nan, nan, nan],\n",
       "       [nan, nan, nan, nan, nan, nan, nan, nan, nan, nan, nan, nan, nan,\n",
       "        nan, nan, nan, nan, nan, nan, nan, nan, nan, nan, nan, nan, nan,\n",
       "        nan, nan, nan, nan],\n",
       "       [nan, nan, nan, nan, nan, nan, nan, nan, nan, nan, nan, nan, nan,\n",
       "        nan, nan, nan, nan, nan, nan, nan, nan, nan, nan, nan, nan, nan,\n",
       "        nan, nan, nan, nan],\n",
       "       [nan, nan, nan, nan, nan, nan, nan, nan, nan, nan, nan, nan, nan,\n",
       "        nan, nan, nan, nan, nan, nan, nan, nan, nan, nan, nan, nan, nan,\n",
       "        nan, nan, nan, nan],\n",
       "       [nan, nan, nan, nan, nan, nan, nan, nan, nan, nan, nan, nan, nan,\n",
       "        nan, nan, nan, nan, nan, nan, nan, nan, nan, nan, nan, nan, nan,\n",
       "        nan, nan, nan, nan],\n",
       "       [nan, nan, nan, nan, nan, nan, nan, nan, nan, nan, nan, nan, nan,\n",
       "        nan, nan, nan, nan, nan, nan, nan, nan, nan, nan, nan, nan, nan,\n",
       "        nan, nan, nan, nan],\n",
       "       [nan, nan, nan, nan, nan, nan, nan, nan, nan, nan, nan, nan, nan,\n",
       "        nan, nan, nan, nan, nan, nan, nan, nan, nan, nan, nan, nan, nan,\n",
       "        nan, nan, nan, nan],\n",
       "       [nan, nan, nan, nan, nan, nan, nan, nan, nan, nan, nan, nan, nan,\n",
       "        nan, nan, nan, nan, nan, nan, nan, nan, nan, nan, nan, nan, nan,\n",
       "        nan, nan, nan, nan],\n",
       "       [nan, nan, nan, nan, nan, nan, nan, nan, nan, nan, nan, nan, nan,\n",
       "        nan, nan, nan, nan, nan, nan, nan, nan, nan, nan, nan, nan, nan,\n",
       "        nan, nan, nan, nan],\n",
       "       [nan, nan, nan, nan, nan, nan, nan, nan, nan, nan, nan, nan, nan,\n",
       "        nan, nan, nan, nan, nan, nan, nan, nan, nan, nan, nan, nan, nan,\n",
       "        nan, nan, nan, nan],\n",
       "       [nan, nan, nan, nan, nan, nan, nan, nan, nan, nan, nan, nan, nan,\n",
       "        nan, nan, nan, nan, nan, nan, nan, nan, nan, nan, nan, nan, nan,\n",
       "        nan, nan, nan, nan],\n",
       "       [nan, nan, nan, nan, nan, nan, nan, nan, nan, nan, nan, nan, nan,\n",
       "        nan, nan, nan, nan, nan, nan, nan, nan, nan, nan, nan, nan, nan,\n",
       "        nan, nan, nan, nan],\n",
       "       [nan, nan, nan, nan, nan, nan, nan, nan, nan, nan, nan, nan, nan,\n",
       "        nan, nan, nan, nan, nan, nan, nan, nan, nan, nan, nan, nan, nan,\n",
       "        nan, nan, nan, nan],\n",
       "       [nan, nan, nan, nan, nan, nan, nan, nan, nan, nan, nan, nan, nan,\n",
       "        nan, nan, nan, nan, nan, nan, nan, nan, nan, nan, nan, nan, nan,\n",
       "        nan, nan, nan, nan],\n",
       "       [nan, nan, nan, nan, nan, nan, nan, nan, nan, nan, nan, nan, nan,\n",
       "        nan, nan, nan, nan, nan, nan, nan, nan, nan, nan, nan, nan, nan,\n",
       "        nan, nan, nan, nan],\n",
       "       [nan, nan, nan, nan, nan, nan, nan, nan, nan, nan, nan, nan, nan,\n",
       "        nan, nan, nan, nan, nan, nan, nan, nan, nan, nan, nan, nan, nan,\n",
       "        nan, nan, nan, nan],\n",
       "       [nan, nan, nan, nan, nan, nan, nan, nan, nan, nan, nan, nan, nan,\n",
       "        nan, nan, nan, nan, nan, nan, nan, nan, nan, nan, nan, nan, nan,\n",
       "        nan, nan, nan, nan],\n",
       "       [nan, nan, nan, nan, nan, nan, nan, nan, nan, nan, nan, nan, nan,\n",
       "        nan, nan, nan, nan, nan, nan, nan, nan, nan, nan, nan, nan, nan,\n",
       "        nan, nan, nan, nan],\n",
       "       [nan, nan, nan, nan, nan, nan, nan, nan, nan, nan, nan, nan, nan,\n",
       "        nan, nan, nan, nan, nan, nan, nan, nan, nan, nan, nan, nan, nan,\n",
       "        nan, nan, nan, nan],\n",
       "       [nan, nan, nan, nan, nan, nan, nan, nan, nan, nan, nan, nan, nan,\n",
       "        nan, nan, nan, nan, nan, nan, nan, nan, nan, nan, nan, nan, nan,\n",
       "        nan, nan, nan, nan],\n",
       "       [nan, nan, nan, nan, nan, nan, nan, nan, nan, nan, nan, nan, nan,\n",
       "        nan, nan, nan, nan, nan, nan, nan, nan, nan, nan, nan, nan, nan,\n",
       "        nan, nan, nan, nan],\n",
       "       [nan, nan, nan, nan, nan, nan, nan, nan, nan, nan, nan, nan, nan,\n",
       "        nan, nan, nan, nan, nan, nan, nan, nan, nan, nan, nan, nan, nan,\n",
       "        nan, nan, nan, nan],\n",
       "       [nan, nan, nan, nan, nan, nan, nan, nan, nan, nan, nan, nan, nan,\n",
       "        nan, nan, nan, nan, nan, nan, nan, nan, nan, nan, nan, nan, nan,\n",
       "        nan, nan, nan, nan],\n",
       "       [nan, nan, nan, nan, nan, nan, nan, nan, nan, nan, nan, nan, nan,\n",
       "        nan, nan, nan, nan, nan, nan, nan, nan, nan, nan, nan, nan, nan,\n",
       "        nan, nan, nan, nan]])"
      ]
     },
     "execution_count": 26,
     "metadata": {},
     "output_type": "execute_result"
    }
   ],
   "source": [
    "kernel_matrix = np.full((num_samples, num_samples), np.nan)\n",
    "print(kernel_matrix.shape)\n",
    "kernel_matrix"
   ]
  },
  {
   "cell_type": "code",
   "execution_count": 27,
   "id": "b8c22c58-c5e8-407d-a2b5-46b7adc7ccca",
   "metadata": {},
   "outputs": [
    {
     "name": "stdout",
     "output_type": "stream",
     "text": [
      "(10, 30)\n"
     ]
    },
    {
     "data": {
      "text/plain": [
       "array([[nan, nan, nan, nan, nan, nan, nan, nan, nan, nan, nan, nan, nan,\n",
       "        nan, nan, nan, nan, nan, nan, nan, nan, nan, nan, nan, nan, nan,\n",
       "        nan, nan, nan, nan],\n",
       "       [nan, nan, nan, nan, nan, nan, nan, nan, nan, nan, nan, nan, nan,\n",
       "        nan, nan, nan, nan, nan, nan, nan, nan, nan, nan, nan, nan, nan,\n",
       "        nan, nan, nan, nan],\n",
       "       [nan, nan, nan, nan, nan, nan, nan, nan, nan, nan, nan, nan, nan,\n",
       "        nan, nan, nan, nan, nan, nan, nan, nan, nan, nan, nan, nan, nan,\n",
       "        nan, nan, nan, nan],\n",
       "       [nan, nan, nan, nan, nan, nan, nan, nan, nan, nan, nan, nan, nan,\n",
       "        nan, nan, nan, nan, nan, nan, nan, nan, nan, nan, nan, nan, nan,\n",
       "        nan, nan, nan, nan],\n",
       "       [nan, nan, nan, nan, nan, nan, nan, nan, nan, nan, nan, nan, nan,\n",
       "        nan, nan, nan, nan, nan, nan, nan, nan, nan, nan, nan, nan, nan,\n",
       "        nan, nan, nan, nan],\n",
       "       [nan, nan, nan, nan, nan, nan, nan, nan, nan, nan, nan, nan, nan,\n",
       "        nan, nan, nan, nan, nan, nan, nan, nan, nan, nan, nan, nan, nan,\n",
       "        nan, nan, nan, nan],\n",
       "       [nan, nan, nan, nan, nan, nan, nan, nan, nan, nan, nan, nan, nan,\n",
       "        nan, nan, nan, nan, nan, nan, nan, nan, nan, nan, nan, nan, nan,\n",
       "        nan, nan, nan, nan],\n",
       "       [nan, nan, nan, nan, nan, nan, nan, nan, nan, nan, nan, nan, nan,\n",
       "        nan, nan, nan, nan, nan, nan, nan, nan, nan, nan, nan, nan, nan,\n",
       "        nan, nan, nan, nan],\n",
       "       [nan, nan, nan, nan, nan, nan, nan, nan, nan, nan, nan, nan, nan,\n",
       "        nan, nan, nan, nan, nan, nan, nan, nan, nan, nan, nan, nan, nan,\n",
       "        nan, nan, nan, nan],\n",
       "       [nan, nan, nan, nan, nan, nan, nan, nan, nan, nan, nan, nan, nan,\n",
       "        nan, nan, nan, nan, nan, nan, nan, nan, nan, nan, nan, nan, nan,\n",
       "        nan, nan, nan, nan]])"
      ]
     },
     "execution_count": 27,
     "metadata": {},
     "output_type": "execute_result"
    }
   ],
   "source": [
    "test_matrix = np.full((test_size, num_samples), np.nan)\n",
    "print(test_matrix.shape)\n",
    "test_matrix"
   ]
  },
  {
   "cell_type": "code",
   "execution_count": 28,
   "id": "528830e7-4f3a-4a36-989b-19b95d61642b",
   "metadata": {},
   "outputs": [
    {
     "name": "stdout",
     "output_type": "stream",
     "text": [
      "Number of features: 14\n",
      "Number of qubits: 7\n"
     ]
    }
   ],
   "source": [
    "from qiskit.circuit import Parameter, ParameterVector, QuantumCircuit\n",
    "\n",
    "# Prepare feature map for computing overlap\n",
    "num_features = np.shape(X_train)[1]\n",
    "num_qubits = int(num_features / 2)\n",
    "print(f\"Number of features: {num_features}\")\n",
    "print(f\"Number of qubits: {num_qubits}\")"
   ]
  },
  {
   "cell_type": "code",
   "execution_count": 29,
   "id": "69564f7d-2999-4468-a1e1-858eb0c19a16",
   "metadata": {},
   "outputs": [
    {
     "data": {
      "image/png": "[encoded data removed]",
      "text/plain": [
       "<Figure size 423.331x371.233 with 1 Axes>"
      ]
     },
     "execution_count": 29,
     "metadata": {},
     "output_type": "execute_result"
    }
   ],
   "source": [
    "# To use a custom feature map use the lines below.\n",
    "\n",
    "entangler_map = [[0, 2], [3, 4], [2, 5], [1, 4], [2, 3], [4, 6]]\n",
    "\n",
    "fm = QuantumCircuit(num_qubits)\n",
    "training_param = Parameter(\"θ\")\n",
    "feature_params = ParameterVector(\"x\", num_qubits * 2)\n",
    "fm.ry(training_param, fm.qubits)\n",
    "for cz in entangler_map:\n",
    "    fm.cz(cz[0], cz[1])\n",
    "for i in range(num_qubits):\n",
    "    fm.rz(-2 * feature_params[2 * i + 1], i)\n",
    "    fm.rx(-2 * feature_params[2 * i], i)\n",
    "\n",
    "fm.draw(\"mpl\", scale=0.6)"
   ]
  },
  {
   "cell_type": "markdown",
   "id": "839e06a7-14ee-4031-9c1f-70776db965f3",
   "metadata": {},
   "source": [
    "### Step 2 & 3: Optimize problem & execute using primitives"
   ]
  },
  {
   "cell_type": "code",
   "execution_count": 30,
   "id": "1c655026-1aee-4350-9b5a-a483cdbd4dba",
   "metadata": {},
   "outputs": [],
   "source": [
    "def create_training_overlap_circuit_list(train_size, X_train, feature_map):\n",
    "    training_overlap_circ_list = [\n",
    "        UnitaryOverlap(\n",
    "            feature_map.assign_parameters(list(X_train[x1]) + [np.pi / 2]),\n",
    "            feature_map.assign_parameters(list(X_train[x2]) + [np.pi / 2])\n",
    "        )\n",
    "        for x1 in range(train_size) for x2 in range(x1 + 1, train_size)\n",
    "    ]\n",
    "\n",
    "    for circuit in training_overlap_circ_list:\n",
    "        circuit.measure_all()\n",
    "\n",
    "    return training_overlap_circ_list\n",
    "\n",
    "\n",
    "def create_testing_overlap_circuit_list(test_size, train_size, X_test, X_train, feature_map):\n",
    "    testing_overlap_circ_list = [\n",
    "        UnitaryOverlap(\n",
    "            feature_map.assign_parameters(list(X_test[x1]) + [np.pi / 2]),\n",
    "            feature_map.assign_parameters(list(X_train[x2]) + [np.pi / 2])\n",
    "        )\n",
    "        for x1 in range(test_size) for x2 in range(train_size)\n",
    "    ]\n",
    "\n",
    "    for circuit in testing_overlap_circ_list:\n",
    "        circuit.measure_all()\n",
    "\n",
    "    return testing_overlap_circ_list\n",
    "\n",
    "\n",
    "def compute_overlap_matrix(results, size1, size2, is_symmetric=False):\n",
    "    \"\"\"\n",
    "    Compute the kernel or test matrix from the sampler results.\n",
    "\n",
    "    Parameters:\n",
    "    - results: The result object from sampler.run()\n",
    "    - size1: Number of rows in the matrix (train_size or test_size)\n",
    "    - size2: Number of columns in the matrix (train_size)\n",
    "    - is_symmetric: If True, fills a symmetric kernel matrix.\n",
    "\n",
    "    Returns:\n",
    "    - A numpy array representing the computed overlap matrix.\n",
    "    \"\"\"\n",
    "    overlap_matrix = np.zeros((size1, size2))\n",
    "    idx = 0\n",
    "\n",
    "    for x1 in range(size1):\n",
    "        for x2 in range(x1 + 1, size2) if is_symmetric else range(size2):\n",
    "            counts = results[idx].data.meas.get_int_counts()\n",
    "            prob_0 = counts.get(0, 0.0) / num_shots\n",
    "\n",
    "            overlap_matrix[x1, x2] = prob_0\n",
    "\n",
    "            if is_symmetric:\n",
    "                overlap_matrix[x2, x1] = prob_0  # Mirror value for symmetry\n",
    "\n",
    "            idx += 1\n",
    "\n",
    "        if is_symmetric:\n",
    "            overlap_matrix[x1, x1] = 1  # Diagonal elements should be 1 for training data\n",
    "\n",
    "    return overlap_matrix"
   ]
  },
  {
   "cell_type": "code",
   "execution_count": 31,
   "id": "031a042a-b794-4e16-929d-7660096b87fc",
   "metadata": {},
   "outputs": [],
   "source": [
    "# Running on a simulator\n",
    "from qiskit.primitives import StatevectorSampler\n",
    "\n",
    "# Evaluate the problem using state vector-based primitives from Qiskit.\n",
    "sampler = StatevectorSampler()\n",
    "num_shots = 10000"
   ]
  },
  {
   "cell_type": "code",
   "execution_count": 26,
   "id": "04153c80-ed66-450e-b694-a6489add7060",
   "metadata": {},
   "outputs": [],
   "source": [
    "# # Running on a real hardware\n",
    "# from qiskit_ibm_runtime import SamplerV2 as Sampler\n",
    "\n",
    "# sampler = Sampler(mode=backend)"
   ]
  },
  {
   "cell_type": "markdown",
   "id": "7c20a639-0d98-4486-b1aa-87a274c6818d",
   "metadata": {},
   "source": [
    "Create training circutis and submit job"
   ]
  },
  {
   "cell_type": "code",
   "execution_count": 32,
   "id": "dedeae53-784d-454c-a717-66fbe1ce9fb6",
   "metadata": {},
   "outputs": [],
   "source": [
    "training_overlap_circ_list = create_training_overlap_circuit_list(train_size, X_train, fm)\n",
    "job_training = sampler.run(training_overlap_circ_list, shots=num_shots)"
   ]
  },
  {
   "cell_type": "markdown",
   "id": "ca16972a-72b8-44ec-a7c3-d589167e102b",
   "metadata": {},
   "source": [
    "Create testing circuits and submit job"
   ]
  },
  {
   "cell_type": "code",
   "execution_count": 33,
   "id": "0714a88d-169e-4e4f-bc8e-3a07961db25a",
   "metadata": {},
   "outputs": [],
   "source": [
    "testing_overlap_circ_list = create_testing_overlap_circuit_list(test_size, train_size, X_test, X_train, fm)\n",
    "job_testing = sampler.run(testing_overlap_circ_list, shots=num_shots)"
   ]
  },
  {
   "cell_type": "markdown",
   "id": "d5431779-be51-4279-b5ae-8822c680c9e0",
   "metadata": {},
   "source": [
    "Compute training kernel matrix"
   ]
  },
  {
   "cell_type": "code",
   "execution_count": 34,
   "id": "1273d712-2b88-4763-be66-55b935526305",
   "metadata": {},
   "outputs": [
    {
     "name": "stdout",
     "output_type": "stream",
     "text": [
      "Training matrix done\n"
     ]
    }
   ],
   "source": [
    "results_training = job_training.result()\n",
    "kernel_matrix = compute_overlap_matrix(results_training, train_size, train_size, is_symmetric=True)\n",
    "print(\"Training matrix done\")"
   ]
  },
  {
   "cell_type": "markdown",
   "id": "47f67ec9-4d02-4f54-a66b-690487856dd7",
   "metadata": {},
   "source": [
    "Compute test matrix"
   ]
  },
  {
   "cell_type": "code",
   "execution_count": 35,
   "id": "48ed1fa0-ddaa-4e32-a124-af7c45d536a2",
   "metadata": {},
   "outputs": [
    {
     "name": "stdout",
     "output_type": "stream",
     "text": [
      "Test matrix done\n"
     ]
    }
   ],
   "source": [
    "results_testing = job_testing.result()\n",
    "test_matrix = compute_overlap_matrix(results_testing, test_size, train_size, is_symmetric=False)\n",
    "print(\"Test matrix done\")"
   ]
  },
  {
   "cell_type": "markdown",
   "id": "55d605b3-e481-4878-bcb3-84ccdde1aa58",
   "metadata": {
    "jp-MarkdownHeadingCollapsed": true
   },
   "source": [
    "#### Running on real hardware"
   ]
  },
  {
   "cell_type": "code",
   "execution_count": 31,
   "id": "388f381d-6879-4dfc-9c29-172dd0644cc2",
   "metadata": {},
   "outputs": [],
   "source": [
    "# # Running on a real hardware\n",
    "# from qiskit_ibm_runtime import SamplerV2 as Sampler\n",
    "\n",
    "# sampler = Sampler(mode=backend)"
   ]
  },
  {
   "cell_type": "markdown",
   "id": "07c55c5f-e17f-4281-850b-009c8e3e1c36",
   "metadata": {},
   "source": [
    "Create training circutis and submit job"
   ]
  },
  {
   "cell_type": "code",
   "execution_count": 32,
   "id": "70d9b725-cb2c-44ab-a153-fb47f483ca34",
   "metadata": {},
   "outputs": [],
   "source": [
    "# training_overlap_circ_list = create_training_overlap_circuit_list(train_size, X_train, fm)\n",
    "# pm = generate_preset_pass_manager(optimization_level=2, backend=backend)\n",
    "# isa_circuit_list = [pm.run(circuit) for circuit in training_overlap_circ_list]"
   ]
  },
  {
   "cell_type": "code",
   "execution_count": 33,
   "id": "09b4de54-6e0b-44c3-b5cd-96715292999d",
   "metadata": {},
   "outputs": [],
   "source": [
    "# job_training = sampler.run(isa_circuit_list, shots=num_shots)"
   ]
  },
  {
   "cell_type": "markdown",
   "id": "3d5266bb-4a7a-42f5-a43c-e6f22e17fa22",
   "metadata": {},
   "source": [
    "Create testing circuits and submit job"
   ]
  },
  {
   "cell_type": "code",
   "execution_count": 34,
   "id": "d6755213-5c22-41f9-9cf9-83916363f6d0",
   "metadata": {},
   "outputs": [],
   "source": [
    "# testing_overlap_circ_list = create_testing_overlap_circuit_list(test_size, train_size, X_test, X_train, fm)\n",
    "# isa_circuit_list = [pm.run(circuit) for circuit in testing_overlap_circ_list]"
   ]
  },
  {
   "cell_type": "code",
   "execution_count": 35,
   "id": "948efa92-f5ae-491f-814a-b339e5221004",
   "metadata": {},
   "outputs": [],
   "source": [
    "# job_testing = sampler.run(isa_circuit_list, shots=num_shots)"
   ]
  },
  {
   "cell_type": "markdown",
   "id": "b516cede-be09-4549-ae94-1f63b7c39318",
   "metadata": {},
   "source": [
    "Compute training kernel matrix"
   ]
  },
  {
   "cell_type": "code",
   "execution_count": 36,
   "id": "788b7551-6c39-4c57-97c3-cc16a8d23cec",
   "metadata": {},
   "outputs": [],
   "source": [
    "# results_training = job_training.result()\n",
    "# kernel_matrix = compute_overlap_matrix(results_training, train_size, train_size, is_symmetric=True)\n",
    "# print(\"Training matrix done\")"
   ]
  },
  {
   "cell_type": "markdown",
   "id": "b5ca9747-2b85-48c7-861d-ea6909120ba0",
   "metadata": {},
   "source": [
    "Compute test matrix"
   ]
  },
  {
   "cell_type": "code",
   "execution_count": 37,
   "id": "a1feb0c4-dfff-410a-921f-3d114ddb210a",
   "metadata": {},
   "outputs": [],
   "source": [
    "# results_testing = job_testing.result()\n",
    "# test_matrix = compute_overlap_matrix(results_testing, test_size, train_size, is_symmetric=False)\n",
    "# print(\"Test matrix done\")"
   ]
  },
  {
   "cell_type": "markdown",
   "id": "bff76fa2-7e47-4e8c-bd41-8b4eb8eeccc3",
   "metadata": {},
   "source": [
    "### Step 4: Post-process, return result in classical format"
   ]
  },
  {
   "cell_type": "code",
   "execution_count": 38,
   "id": "9190fedd-55fc-4ccd-81f7-63cb1a5dd6bf",
   "metadata": {},
   "outputs": [],
   "source": [
    "# import a support vector classifier from a classical ML package.\n",
    "from sklearn.svm import SVC\n",
    "\n",
    "#Specify that you want to use a pre-computed kernel matrix\n",
    "qml_svc = SVC(kernel=\"precomputed\")"
   ]
  },
  {
   "cell_type": "code",
   "execution_count": 39,
   "id": "1ac38e0f-4799-49e1-9c46-200414dfadf3",
   "metadata": {},
   "outputs": [
    {
     "data": {
      "text/html": [
       "<style>#sk-container-id-1 {\n",
       "  /* Definition of color scheme common for light and dark mode */\n",
       "  --sklearn-color-text: #000;\n",
       "  --sklearn-color-text-muted: #666;\n",
       "  --sklearn-color-line: gray;\n",
       "  /* Definition of color scheme for unfitted estimators */\n",
       "  --sklearn-color-unfitted-level-0: #fff5e6;\n",
       "  --sklearn-color-unfitted-level-1: #f6e4d2;\n",
       "  --sklearn-color-unfitted-level-2: #ffe0b3;\n",
       "  --sklearn-color-unfitted-level-3: chocolate;\n",
       "  /* Definition of color scheme for fitted estimators */\n",
       "  --sklearn-color-fitted-level-0: #f0f8ff;\n",
       "  --sklearn-color-fitted-level-1: #d4ebff;\n",
       "  --sklearn-color-fitted-level-2: #b3dbfd;\n",
       "  --sklearn-color-fitted-level-3: cornflowerblue;\n",
       "\n",
       "  /* Specific color for light theme */\n",
       "  --sklearn-color-text-on-default-background: var(--sg-text-color, var(--theme-code-foreground, var(--jp-content-font-color1, black)));\n",
       "  --sklearn-color-background: var(--sg-background-color, var(--theme-background, var(--jp-layout-color0, white)));\n",
       "  --sklearn-color-border-box: var(--sg-text-color, var(--theme-code-foreground, var(--jp-content-font-color1, black)));\n",
       "  --sklearn-color-icon: #696969;\n",
       "\n",
       "  @media (prefers-color-scheme: dark) {\n",
       "    /* Redefinition of color scheme for dark theme */\n",
       "    --sklearn-color-text-on-default-background: var(--sg-text-color, var(--theme-code-foreground, var(--jp-content-font-color1, white)));\n",
       "    --sklearn-color-background: var(--sg-background-color, var(--theme-background, var(--jp-layout-color0, #111)));\n",
       "    --sklearn-color-border-box: var(--sg-text-color, var(--theme-code-foreground, var(--jp-content-font-color1, white)));\n",
       "    --sklearn-color-icon: #878787;\n",
       "  }\n",
       "}\n",
       "\n",
       "#sk-container-id-1 {\n",
       "  color: var(--sklearn-color-text);\n",
       "}\n",
       "\n",
       "#sk-container-id-1 pre {\n",
       "  padding: 0;\n",
       "}\n",
       "\n",
       "#sk-container-id-1 input.sk-hidden--visually {\n",
       "  border: 0;\n",
       "  clip: rect(1px 1px 1px 1px);\n",
       "  clip: rect(1px, 1px, 1px, 1px);\n",
       "  height: 1px;\n",
       "  margin: -1px;\n",
       "  overflow: hidden;\n",
       "  padding: 0;\n",
       "  position: absolute;\n",
       "  width: 1px;\n",
       "}\n",
       "\n",
       "#sk-container-id-1 div.sk-dashed-wrapped {\n",
       "  border: 1px dashed var(--sklearn-color-line);\n",
       "  margin: 0 0.4em 0.5em 0.4em;\n",
       "  box-sizing: border-box;\n",
       "  padding-bottom: 0.4em;\n",
       "  background-color: var(--sklearn-color-background);\n",
       "}\n",
       "\n",
       "#sk-container-id-1 div.sk-container {\n",
       "  /* jupyter's `normalize.less` sets `[hidden] { display: none; }`\n",
       "     but bootstrap.min.css set `[hidden] { display: none !important; }`\n",
       "     so we also need the `!important` here to be able to override the\n",
       "     default hidden behavior on the sphinx rendered scikit-learn.org.\n",
       "     See: https://github.com/scikit-learn/scikit-learn/issues/21755 */\n",
       "  display: inline-block !important;\n",
       "  position: relative;\n",
       "}\n",
       "\n",
       "#sk-container-id-1 div.sk-text-repr-fallback {\n",
       "  display: none;\n",
       "}\n",
       "\n",
       "div.sk-parallel-item,\n",
       "div.sk-serial,\n",
       "div.sk-item {\n",
       "  /* draw centered vertical line to link estimators */\n",
       "  background-image: linear-gradient(var(--sklearn-color-text-on-default-background), var(--sklearn-color-text-on-default-background));\n",
       "  background-size: 2px 100%;\n",
       "  background-repeat: no-repeat;\n",
       "  background-position: center center;\n",
       "}\n",
       "\n",
       "/* Parallel-specific style estimator block */\n",
       "\n",
       "#sk-container-id-1 div.sk-parallel-item::after {\n",
       "  content: \"\";\n",
       "  width: 100%;\n",
       "  border-bottom: 2px solid var(--sklearn-color-text-on-default-background);\n",
       "  flex-grow: 1;\n",
       "}\n",
       "\n",
       "#sk-container-id-1 div.sk-parallel {\n",
       "  display: flex;\n",
       "  align-items: stretch;\n",
       "  justify-content: center;\n",
       "  background-color: var(--sklearn-color-background);\n",
       "  position: relative;\n",
       "}\n",
       "\n",
       "#sk-container-id-1 div.sk-parallel-item {\n",
       "  display: flex;\n",
       "  flex-direction: column;\n",
       "}\n",
       "\n",
       "#sk-container-id-1 div.sk-parallel-item:first-child::after {\n",
       "  align-self: flex-end;\n",
       "  width: 50%;\n",
       "}\n",
       "\n",
       "#sk-container-id-1 div.sk-parallel-item:last-child::after {\n",
       "  align-self: flex-start;\n",
       "  width: 50%;\n",
       "}\n",
       "\n",
       "#sk-container-id-1 div.sk-parallel-item:only-child::after {\n",
       "  width: 0;\n",
       "}\n",
       "\n",
       "/* Serial-specific style estimator block */\n",
       "\n",
       "#sk-container-id-1 div.sk-serial {\n",
       "  display: flex;\n",
       "  flex-direction: column;\n",
       "  align-items: center;\n",
       "  background-color: var(--sklearn-color-background);\n",
       "  padding-right: 1em;\n",
       "  padding-left: 1em;\n",
       "}\n",
       "\n",
       "\n",
       "/* Toggleable style: style used for estimator/Pipeline/ColumnTransformer box that is\n",
       "clickable and can be expanded/collapsed.\n",
       "- Pipeline and ColumnTransformer use this feature and define the default style\n",
       "- Estimators will overwrite some part of the style using the `sk-estimator` class\n",
       "*/\n",
       "\n",
       "/* Pipeline and ColumnTransformer style (default) */\n",
       "\n",
       "#sk-container-id-1 div.sk-toggleable {\n",
       "  /* Default theme specific background. It is overwritten whether we have a\n",
       "  specific estimator or a Pipeline/ColumnTransformer */\n",
       "  background-color: var(--sklearn-color-background);\n",
       "}\n",
       "\n",
       "/* Toggleable label */\n",
       "#sk-container-id-1 label.sk-toggleable__label {\n",
       "  cursor: pointer;\n",
       "  display: flex;\n",
       "  width: 100%;\n",
       "  margin-bottom: 0;\n",
       "  padding: 0.5em;\n",
       "  box-sizing: border-box;\n",
       "  text-align: center;\n",
       "  align-items: start;\n",
       "  justify-content: space-between;\n",
       "  gap: 0.5em;\n",
       "}\n",
       "\n",
       "#sk-container-id-1 label.sk-toggleable__label .caption {\n",
       "  font-size: 0.6rem;\n",
       "  font-weight: lighter;\n",
       "  color: var(--sklearn-color-text-muted);\n",
       "}\n",
       "\n",
       "#sk-container-id-1 label.sk-toggleable__label-arrow:before {\n",
       "  /* Arrow on the left of the label */\n",
       "  content: \"▸\";\n",
       "  float: left;\n",
       "  margin-right: 0.25em;\n",
       "  color: var(--sklearn-color-icon);\n",
       "}\n",
       "\n",
       "#sk-container-id-1 label.sk-toggleable__label-arrow:hover:before {\n",
       "  color: var(--sklearn-color-text);\n",
       "}\n",
       "\n",
       "/* Toggleable content - dropdown */\n",
       "\n",
       "#sk-container-id-1 div.sk-toggleable__content {\n",
       "  max-height: 0;\n",
       "  max-width: 0;\n",
       "  overflow: hidden;\n",
       "  text-align: left;\n",
       "  /* unfitted */\n",
       "  background-color: var(--sklearn-color-unfitted-level-0);\n",
       "}\n",
       "\n",
       "#sk-container-id-1 div.sk-toggleable__content.fitted {\n",
       "  /* fitted */\n",
       "  background-color: var(--sklearn-color-fitted-level-0);\n",
       "}\n",
       "\n",
       "#sk-container-id-1 div.sk-toggleable__content pre {\n",
       "  margin: 0.2em;\n",
       "  border-radius: 0.25em;\n",
       "  color: var(--sklearn-color-text);\n",
       "  /* unfitted */\n",
       "  background-color: var(--sklearn-color-unfitted-level-0);\n",
       "}\n",
       "\n",
       "#sk-container-id-1 div.sk-toggleable__content.fitted pre {\n",
       "  /* unfitted */\n",
       "  background-color: var(--sklearn-color-fitted-level-0);\n",
       "}\n",
       "\n",
       "#sk-container-id-1 input.sk-toggleable__control:checked~div.sk-toggleable__content {\n",
       "  /* Expand drop-down */\n",
       "  max-height: 200px;\n",
       "  max-width: 100%;\n",
       "  overflow: auto;\n",
       "}\n",
       "\n",
       "#sk-container-id-1 input.sk-toggleable__control:checked~label.sk-toggleable__label-arrow:before {\n",
       "  content: \"▾\";\n",
       "}\n",
       "\n",
       "/* Pipeline/ColumnTransformer-specific style */\n",
       "\n",
       "#sk-container-id-1 div.sk-label input.sk-toggleable__control:checked~label.sk-toggleable__label {\n",
       "  color: var(--sklearn-color-text);\n",
       "  background-color: var(--sklearn-color-unfitted-level-2);\n",
       "}\n",
       "\n",
       "#sk-container-id-1 div.sk-label.fitted input.sk-toggleable__control:checked~label.sk-toggleable__label {\n",
       "  background-color: var(--sklearn-color-fitted-level-2);\n",
       "}\n",
       "\n",
       "/* Estimator-specific style */\n",
       "\n",
       "/* Colorize estimator box */\n",
       "#sk-container-id-1 div.sk-estimator input.sk-toggleable__control:checked~label.sk-toggleable__label {\n",
       "  /* unfitted */\n",
       "  background-color: var(--sklearn-color-unfitted-level-2);\n",
       "}\n",
       "\n",
       "#sk-container-id-1 div.sk-estimator.fitted input.sk-toggleable__control:checked~label.sk-toggleable__label {\n",
       "  /* fitted */\n",
       "  background-color: var(--sklearn-color-fitted-level-2);\n",
       "}\n",
       "\n",
       "#sk-container-id-1 div.sk-label label.sk-toggleable__label,\n",
       "#sk-container-id-1 div.sk-label label {\n",
       "  /* The background is the default theme color */\n",
       "  color: var(--sklearn-color-text-on-default-background);\n",
       "}\n",
       "\n",
       "/* On hover, darken the color of the background */\n",
       "#sk-container-id-1 div.sk-label:hover label.sk-toggleable__label {\n",
       "  color: var(--sklearn-color-text);\n",
       "  background-color: var(--sklearn-color-unfitted-level-2);\n",
       "}\n",
       "\n",
       "/* Label box, darken color on hover, fitted */\n",
       "#sk-container-id-1 div.sk-label.fitted:hover label.sk-toggleable__label.fitted {\n",
       "  color: var(--sklearn-color-text);\n",
       "  background-color: var(--sklearn-color-fitted-level-2);\n",
       "}\n",
       "\n",
       "/* Estimator label */\n",
       "\n",
       "#sk-container-id-1 div.sk-label label {\n",
       "  font-family: monospace;\n",
       "  font-weight: bold;\n",
       "  display: inline-block;\n",
       "  line-height: 1.2em;\n",
       "}\n",
       "\n",
       "#sk-container-id-1 div.sk-label-container {\n",
       "  text-align: center;\n",
       "}\n",
       "\n",
       "/* Estimator-specific */\n",
       "#sk-container-id-1 div.sk-estimator {\n",
       "  font-family: monospace;\n",
       "  border: 1px dotted var(--sklearn-color-border-box);\n",
       "  border-radius: 0.25em;\n",
       "  box-sizing: border-box;\n",
       "  margin-bottom: 0.5em;\n",
       "  /* unfitted */\n",
       "  background-color: var(--sklearn-color-unfitted-level-0);\n",
       "}\n",
       "\n",
       "#sk-container-id-1 div.sk-estimator.fitted {\n",
       "  /* fitted */\n",
       "  background-color: var(--sklearn-color-fitted-level-0);\n",
       "}\n",
       "\n",
       "/* on hover */\n",
       "#sk-container-id-1 div.sk-estimator:hover {\n",
       "  /* unfitted */\n",
       "  background-color: var(--sklearn-color-unfitted-level-2);\n",
       "}\n",
       "\n",
       "#sk-container-id-1 div.sk-estimator.fitted:hover {\n",
       "  /* fitted */\n",
       "  background-color: var(--sklearn-color-fitted-level-2);\n",
       "}\n",
       "\n",
       "/* Specification for estimator info (e.g. \"i\" and \"?\") */\n",
       "\n",
       "/* Common style for \"i\" and \"?\" */\n",
       "\n",
       ".sk-estimator-doc-link,\n",
       "a:link.sk-estimator-doc-link,\n",
       "a:visited.sk-estimator-doc-link {\n",
       "  float: right;\n",
       "  font-size: smaller;\n",
       "  line-height: 1em;\n",
       "  font-family: monospace;\n",
       "  background-color: var(--sklearn-color-background);\n",
       "  border-radius: 1em;\n",
       "  height: 1em;\n",
       "  width: 1em;\n",
       "  text-decoration: none !important;\n",
       "  margin-left: 0.5em;\n",
       "  text-align: center;\n",
       "  /* unfitted */\n",
       "  border: var(--sklearn-color-unfitted-level-1) 1pt solid;\n",
       "  color: var(--sklearn-color-unfitted-level-1);\n",
       "}\n",
       "\n",
       ".sk-estimator-doc-link.fitted,\n",
       "a:link.sk-estimator-doc-link.fitted,\n",
       "a:visited.sk-estimator-doc-link.fitted {\n",
       "  /* fitted */\n",
       "  border: var(--sklearn-color-fitted-level-1) 1pt solid;\n",
       "  color: var(--sklearn-color-fitted-level-1);\n",
       "}\n",
       "\n",
       "/* On hover */\n",
       "div.sk-estimator:hover .sk-estimator-doc-link:hover,\n",
       ".sk-estimator-doc-link:hover,\n",
       "div.sk-label-container:hover .sk-estimator-doc-link:hover,\n",
       ".sk-estimator-doc-link:hover {\n",
       "  /* unfitted */\n",
       "  background-color: var(--sklearn-color-unfitted-level-3);\n",
       "  color: var(--sklearn-color-background);\n",
       "  text-decoration: none;\n",
       "}\n",
       "\n",
       "div.sk-estimator.fitted:hover .sk-estimator-doc-link.fitted:hover,\n",
       ".sk-estimator-doc-link.fitted:hover,\n",
       "div.sk-label-container:hover .sk-estimator-doc-link.fitted:hover,\n",
       ".sk-estimator-doc-link.fitted:hover {\n",
       "  /* fitted */\n",
       "  background-color: var(--sklearn-color-fitted-level-3);\n",
       "  color: var(--sklearn-color-background);\n",
       "  text-decoration: none;\n",
       "}\n",
       "\n",
       "/* Span, style for the box shown on hovering the info icon */\n",
       ".sk-estimator-doc-link span {\n",
       "  display: none;\n",
       "  z-index: 9999;\n",
       "  position: relative;\n",
       "  font-weight: normal;\n",
       "  right: .2ex;\n",
       "  padding: .5ex;\n",
       "  margin: .5ex;\n",
       "  width: min-content;\n",
       "  min-width: 20ex;\n",
       "  max-width: 50ex;\n",
       "  color: var(--sklearn-color-text);\n",
       "  box-shadow: 2pt 2pt 4pt #999;\n",
       "  /* unfitted */\n",
       "  background: var(--sklearn-color-unfitted-level-0);\n",
       "  border: .5pt solid var(--sklearn-color-unfitted-level-3);\n",
       "}\n",
       "\n",
       ".sk-estimator-doc-link.fitted span {\n",
       "  /* fitted */\n",
       "  background: var(--sklearn-color-fitted-level-0);\n",
       "  border: var(--sklearn-color-fitted-level-3);\n",
       "}\n",
       "\n",
       ".sk-estimator-doc-link:hover span {\n",
       "  display: block;\n",
       "}\n",
       "\n",
       "/* \"?\"-specific style due to the `<a>` HTML tag */\n",
       "\n",
       "#sk-container-id-1 a.estimator_doc_link {\n",
       "  float: right;\n",
       "  font-size: 1rem;\n",
       "  line-height: 1em;\n",
       "  font-family: monospace;\n",
       "  background-color: var(--sklearn-color-background);\n",
       "  border-radius: 1rem;\n",
       "  height: 1rem;\n",
       "  width: 1rem;\n",
       "  text-decoration: none;\n",
       "  /* unfitted */\n",
       "  color: var(--sklearn-color-unfitted-level-1);\n",
       "  border: var(--sklearn-color-unfitted-level-1) 1pt solid;\n",
       "}\n",
       "\n",
       "#sk-container-id-1 a.estimator_doc_link.fitted {\n",
       "  /* fitted */\n",
       "  border: var(--sklearn-color-fitted-level-1) 1pt solid;\n",
       "  color: var(--sklearn-color-fitted-level-1);\n",
       "}\n",
       "\n",
       "/* On hover */\n",
       "#sk-container-id-1 a.estimator_doc_link:hover {\n",
       "  /* unfitted */\n",
       "  background-color: var(--sklearn-color-unfitted-level-3);\n",
       "  color: var(--sklearn-color-background);\n",
       "  text-decoration: none;\n",
       "}\n",
       "\n",
       "#sk-container-id-1 a.estimator_doc_link.fitted:hover {\n",
       "  /* fitted */\n",
       "  background-color: var(--sklearn-color-fitted-level-3);\n",
       "}\n",
       "</style><div id=\"sk-container-id-1\" class=\"sk-top-container\"><div class=\"sk-text-repr-fallback\"><pre>SVC(kernel=&#x27;precomputed&#x27;)</pre><b>In a Jupyter environment, please rerun this cell to show the HTML representation or trust the notebook. <br />On GitHub, the HTML representation is unable to render, please try loading this page with nbviewer.org.</b></div><div class=\"sk-container\" hidden><div class=\"sk-item\"><div class=\"sk-estimator fitted sk-toggleable\"><input class=\"sk-toggleable__control sk-hidden--visually\" id=\"sk-estimator-id-1\" type=\"checkbox\" checked><label for=\"sk-estimator-id-1\" class=\"sk-toggleable__label fitted sk-toggleable__label-arrow\"><div><div>SVC</div></div><div><a class=\"sk-estimator-doc-link fitted\" rel=\"noreferrer\" target=\"_blank\" href=\"https://scikit-learn.org/1.6/modules/generated/sklearn.svm.SVC.html\">?<span>Documentation for SVC</span></a><span class=\"sk-estimator-doc-link fitted\">i<span>Fitted</span></span></div></label><div class=\"sk-toggleable__content fitted\"><pre>SVC(kernel=&#x27;precomputed&#x27;)</pre></div> </div></div></div></div>"
      ],
      "text/plain": [
       "SVC(kernel='precomputed')"
      ]
     },
     "execution_count": 39,
     "metadata": {},
     "output_type": "execute_result"
    }
   ],
   "source": [
    "# Feed in the pre-computed matrix and the labels of the training data. The classical algorithm gives you a fit.\n",
    "qml_svc.fit(kernel_matrix, train_labels)"
   ]
  },
  {
   "cell_type": "code",
   "execution_count": 40,
   "id": "64dc6d91-3f13-4f3e-84dc-eff56edc439f",
   "metadata": {},
   "outputs": [
    {
     "data": {
      "text/plain": [
       "array([ 1., -1.,  1., -1.,  1., -1.,  1., -1.,  1., -1.])"
      ]
     },
     "execution_count": 40,
     "metadata": {},
     "output_type": "execute_result"
    }
   ],
   "source": [
    "qml_svc.predict(test_matrix)"
   ]
  },
  {
   "cell_type": "code",
   "execution_count": 41,
   "id": "13de604a-d48e-410d-a22e-55f6167b5006",
   "metadata": {},
   "outputs": [
    {
     "data": {
      "text/plain": [
       "array([ 1., -1.,  1., -1.,  1., -1.,  1., -1.,  1., -1.])"
      ]
     },
     "execution_count": 41,
     "metadata": {},
     "output_type": "execute_result"
    }
   ],
   "source": [
    "test_labels"
   ]
  },
  {
   "cell_type": "code",
   "execution_count": 42,
   "id": "e84196e5-ba75-42e8-89b6-fb5ee81d347a",
   "metadata": {},
   "outputs": [
    {
     "name": "stdout",
     "output_type": "stream",
     "text": [
      "Precomputed kernel classification test score: 1.0\n"
     ]
    }
   ],
   "source": [
    "# Now use the .score to test your data, using the matrix of test data, and test labels as your inputs.\n",
    "qml_score_precomputed_kernel = qml_svc.score(test_matrix, test_labels)\n",
    "print(f\"Precomputed kernel classification test score: {qml_score_precomputed_kernel}\")"
   ]
  },
  {
   "cell_type": "markdown",
   "id": "108edbec-2692-44ff-8f19-203ca3bddf16",
   "metadata": {},
   "source": [
    "## Further reading\n",
    "\n",
    "If you want to learn more about Quantum Machine Learning, check out [the QML course](https://learning.quantum.ibm.com/course/quantum-machine-learning) on IBM Quantum Learning platform."
   ]
  },
  {
   "cell_type": "markdown",
   "id": "603a7297-0119-457e-85ed-3f609bf6bd6e",
   "metadata": {},
   "source": [
    "### Step 1: Map classical inputs to a quantum problem"
   ]
  },
  {
   "cell_type": "code",
   "execution_count": 43,
   "id": "676ac14f-a053-4282-8f3b-d59aa724da61",
   "metadata": {},
   "outputs": [],
   "source": [
    "#Two mock data points, including category labels, as in training\n",
    "\n",
    "large_data = [\n",
    "    [-0.028,\t-1.49,\t-1.698,\t0.107,\t-1.536,\t-1.538,\t-1.356,\t-1.514,\t-0.109,\t-1.8,\t-0.122,\t-1.651,\t-1.955,\t-0.123,\t-1.732,\t0.091,\t-0.048,\t-0.128,\t-0.026,\t0.082,\t-1.263,\t0.065,\t0.004,\t-0.055,\t-0.08,\t-0.173,\t-1.734,\t-0.39,\t-1.451,\t0.078,\t-1.578,\t-0.025,\t-0.184,\t-0.119,\t-1.336,\t0.055,\t-0.204,\t-1.578,\t0.132,\t-0.121,\t-1.599,\t-0.187,-1],\n",
    "    [-1.414,\t-1.439,\t-1.606,\t0.246,\t-1.673,\t0.002,\t-1.317,\t-1.262,\t-0.178,\t-1.814,\t0.013,\t-1.619,\t-1.86,\t-0.25,\t-0.212,\t-0.214,\t-0.033,\t0.071,\t-0.11,\t-1.607,\t0.441,\t-0.143,\t-0.009,\t-1.655,\t-1.579,\t0.381,\t-1.86,\t-0.079,\t-0.088,\t-0.058,\t-1.481,\t-0.064,\t-0.065,\t-1.507,\t0.177,\t-0.131,\t-0.153,\t0.07,\t-1.627,\t0.593,\t-1.547,\t-0.16,-1]\n",
    "]\n",
    "train_data = [large_data[0][:-1],large_data[1][:-1]]"
   ]
  },
  {
   "cell_type": "code",
   "execution_count": 44,
   "id": "38d7e650-7516-49f2-a984-2713ccfb3f54",
   "metadata": {},
   "outputs": [],
   "source": [
    "from qiskit.circuit.library import ZZFeatureMap\n",
    "\n",
    "fm = ZZFeatureMap(feature_dimension=np.shape(train_data)[1], entanglement='linear', reps=1)\n",
    "\n",
    "unitary1 = fm.assign_parameters(train_data[0])\n",
    "unitary2 = fm.assign_parameters(train_data[1])"
   ]
  },
  {
   "cell_type": "code",
   "execution_count": 45,
   "id": "48f81bec-045f-45b8-99c7-2f81a22a2a5f",
   "metadata": {},
   "outputs": [
    {
     "name": "stdout",
     "output_type": "stream",
     "text": [
      "circuit depth =  251\n",
      "two-qubit depth 165\n"
     ]
    }
   ],
   "source": [
    "from qiskit.circuit.library import UnitaryOverlap\n",
    "\n",
    "overlap_circ = UnitaryOverlap(unitary1, unitary2)\n",
    "overlap_circ.measure_all()\n",
    "\n",
    "print(\"circuit depth = \", overlap_circ.decompose(reps = 2).depth())\n",
    "print(\"two-qubit depth\", overlap_circ.decompose().depth(lambda instr: len(instr.qubits) > 1))\n",
    "#overlap_circ.draw(\"mpl\", scale=0.6, style=\"iqp\")"
   ]
  },
  {
   "cell_type": "code",
   "execution_count": 46,
   "id": "300fdd96-4c2b-4724-952d-9b5d4e4474be",
   "metadata": {},
   "outputs": [],
   "source": [
    "from qiskit.circuit import Parameter, ParameterVector, QuantumCircuit\n",
    "\n",
    "# Prepare feature map for computing overlap\n",
    "\n",
    "entangler_map = [    [3, 4], [2, 5], [1, 4], [2, 3], [4, 6], [7, 9], [10, 11], [9, 12], [8, 11], [9, 10], [11, 13], [14, 16], [17, 18], [16, 19], [15, 18], [16, 17], [18, 20]\n",
    "]"
   ]
  },
  {
   "cell_type": "code",
   "execution_count": 47,
   "id": "1e822549-8ca6-4574-8c70-051f5c2d3061",
   "metadata": {},
   "outputs": [],
   "source": [
    "#Use the entangler map above to build a feature map\n",
    "\n",
    "num_features = np.shape(train_data)[1]\n",
    "num_qubits = int(num_features / 2)\n",
    "\n",
    "fm = QuantumCircuit(num_qubits)\n",
    "training_param = Parameter(\"θ\")\n",
    "feature_params = ParameterVector(\"x\", num_qubits * 2)\n",
    "fm.ry(training_param, fm.qubits)\n",
    "for cz in entangler_map:\n",
    "    fm.cz(cz[0], cz[1])\n",
    "for i in range(num_qubits):\n",
    "    fm.rz(-2 * feature_params[2 * i + 1], i)\n",
    "    fm.rx(-2 * feature_params[2 * i], i)"
   ]
  },
  {
   "cell_type": "code",
   "execution_count": 48,
   "id": "f19ed09b-1f0a-4fdd-8aee-a23afd07958b",
   "metadata": {},
   "outputs": [],
   "source": [
    "# Assign features of each data point to a unitary, an instance of the general feature map.\n",
    "\n",
    "unitary1 = fm.assign_parameters(list(train_data[0])+ [np.pi / 2] )\n",
    "unitary2 = fm.assign_parameters(list(train_data[1])+ [np.pi / 2] )\n",
    "\n",
    "from qiskit.circuit.library import UnitaryOverlap\n",
    "\n",
    "# Create the overlap circuit\n",
    "overlap_circ = UnitaryOverlap(unitary1, unitary2)\n",
    "overlap_circ.measure_all()"
   ]
  },
  {
   "cell_type": "markdown",
   "id": "a91d9c6b-2801-4e38-9440-9f7babb40406",
   "metadata": {},
   "source": [
    "### Step 2: Optimize problem for quantum execution"
   ]
  },
  {
   "cell_type": "code",
   "execution_count": 49,
   "id": "72472ef9-c448-43fb-8550-26edcfcdb89e",
   "metadata": {},
   "outputs": [
    {
     "name": "stderr",
     "output_type": "stream",
     "text": [
      "C:\\Users\\dosqas\\AppData\\Local\\Temp\\ipykernel_31808\\2213210671.py:6: DeprecationWarning: The \"ibm_quantum\" channel option is deprecated and will be sunset on 1 July. After this date, \"ibm_cloud\" and \"local\" will be the only valid channels. For information on migrating to the new IBM Quantum Platform on the \"ibm_cloud\" channel, review the migration guide https://quantum.cloud.ibm.com/docs/migration-guides/classic-iqp-to-cloud-iqp .\n",
      "  service = QiskitRuntimeService(channel=\"ibm_quantum\")\n"
     ]
    },
    {
     "name": "stdout",
     "output_type": "stream",
     "text": [
      "<IBMBackend('ibm_strasbourg')>\n"
     ]
    }
   ],
   "source": [
    "#Import needed packages\n",
    "from qiskit.transpiler.preset_passmanagers import generate_preset_pass_manager\n",
    "from qiskit_ibm_runtime import QiskitRuntimeService\n",
    "\n",
    "# Get the least busy backend\n",
    "service = QiskitRuntimeService(channel=\"ibm_quantum\")\n",
    "backend = service.least_busy(\n",
    "    operational=True, simulator=False, min_num_qubits=fm.num_qubits\n",
    ")\n",
    "print(backend)"
   ]
  },
  {
   "cell_type": "code",
   "execution_count": 50,
   "id": "7d5496e8-e57e-4c0e-a8a2-91e71697a1c4",
   "metadata": {},
   "outputs": [
    {
     "name": "stdout",
     "output_type": "stream",
     "text": [
      "circuit depth =  69\n"
     ]
    }
   ],
   "source": [
    "#Apply level 3 optimization to our overlap circuit\n",
    "transpiled_qcs=[]\n",
    "transpiled_depths=[]\n",
    "transpiled_twoqubit_depths=[]\n",
    "for i in range(1,20):\n",
    "    pm = generate_preset_pass_manager(optimization_level=3, backend=backend)\n",
    "    overlap_ibm = pm.run(overlap_circ)\n",
    "    transpiled_qcs.append(overlap_ibm)\n",
    "    transpiled_depths.append(overlap_ibm.decompose().depth())\n",
    "    transpiled_twoqubit_depths.append(overlap_ibm.decompose().depth(lambda instr: len(instr.qubits) > 1))\n",
    "\n",
    "print(\"circuit depth = \", overlap_ibm.decompose().depth())"
   ]
  },
  {
   "cell_type": "code",
   "execution_count": 51,
   "id": "cad7f299-591c-47ad-b2aa-9a3b8b906a85",
   "metadata": {},
   "outputs": [
    {
     "name": "stdout",
     "output_type": "stream",
     "text": [
      "[69, 69, 69, 69, 69, 69, 69, 69, 69, 69, 69, 69, 69, 69, 69, 69, 69, 69, 69]\n",
      "[13, 13, 13, 13, 13, 13, 13, 13, 13, 13, 13, 13, 13, 13, 13, 13, 13, 13, 13]\n"
     ]
    }
   ],
   "source": [
    "print(transpiled_depths)\n",
    "print(transpiled_twoqubit_depths)"
   ]
  },
  {
   "cell_type": "code",
   "execution_count": 52,
   "id": "ed970564-8423-4726-9f52-de67ada23259",
   "metadata": {},
   "outputs": [],
   "source": [
    "overlap_ibm = transpiled_qcs[1]"
   ]
  },
  {
   "cell_type": "markdown",
   "id": "31884309-85b5-41dc-a340-347260d4da08",
   "metadata": {},
   "source": [
    "### Step 3: Execute using Qiskit Runtime Primitives"
   ]
  },
  {
   "cell_type": "code",
   "execution_count": 53,
   "id": "b95241d7-07d0-48ff-bb6e-90d375698662",
   "metadata": {},
   "outputs": [],
   "source": [
    "#Run on ibm_osaka, 7-12-24, required 22 sec.\n",
    "\n",
    "#Import our runtime primitive\n",
    "from qiskit_ibm_runtime import Session, SamplerV2 as Sampler\n",
    "\n",
    "#Open a Runtime session:\n",
    "session = Session(backend=backend)\n",
    "num_shots = 10000\n",
    "# Use sampler and get the counts\n",
    "\n",
    "sampler = Sampler(mode=session)\n",
    "options = sampler.options\n",
    "options.dynamical_decoupling.enable = True\n",
    "options.twirling.enable_gates = True\n",
    "counts = (\n",
    "        sampler.run([overlap_ibm], shots=num_shots).result()[0].data.meas.get_int_counts()\n",
    "        )\n",
    "\n",
    "# Close session after done\n",
    "session.close()"
   ]
  },
  {
   "cell_type": "markdown",
   "id": "7f3a1507-f790-49da-8f7e-2eacd4e19527",
   "metadata": {},
   "source": [
    "### Step 4: Post-process, return result in classical format"
   ]
  },
  {
   "cell_type": "code",
   "execution_count": 54,
   "id": "405236b2-581b-4cb6-ae1f-77bb79daa3b4",
   "metadata": {},
   "outputs": [
    {
     "data": {
      "text/plain": [
       "0.0054"
      ]
     },
     "execution_count": 54,
     "metadata": {},
     "output_type": "execute_result"
    }
   ],
   "source": [
    "counts.get(0, 0.0)/num_shots"
   ]
  }
 ],
 "metadata": {
  "kernelspec": {
   "display_name": "Python 3 (ipykernel)",
   "language": "python",
   "name": "python3"
  },
  "language_info": {
   "codemirror_mode": {
    "name": "ipython",
    "version": 3
   },
   "file_extension": ".py",
   "mimetype": "text/x-python",
   "name": "python",
   "nbconvert_exporter": "python",
   "pygments_lexer": "ipython3",
   "version": "3.13.1"
  },
  "vscode": {
   "interpreter": {
    "hash": "b0fa6594d8f4cbf19f97940f81e996739fb7646882a419484c72d19e05852a7e"
   }
  }
 },
 "nbformat": 4,
 "nbformat_minor": 5
}
